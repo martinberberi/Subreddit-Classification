{
 "cells": [
  {
   "cell_type": "markdown",
   "id": "ada7be2f-cd02-4c38-9635-3e9275f02b04",
   "metadata": {},
   "source": [
    "## Patriots & NFL Detection Using NLP and Classification Models"
   ]
  },
  {
   "cell_type": "markdown",
   "id": "31063fa3-010f-4cd8-856c-23c663474e11",
   "metadata": {},
   "source": [
    "### Problem Statement\n",
    "\n",
    "Patriots & NFL subreddits posts were gathered from [Reddit](#https://www.reddit.com/). This project attempts to detect Patriots posts from NFL posts using Natural Language Processing (NLP) and building classification models with data from both subreddits. As a fan of New England Patriots team i would like to see how Patriots posts are filtered from NFL posts."
   ]
  },
  {
   "cell_type": "markdown",
   "id": "e8691fd6-05f3-42d7-987f-bd0ba71fa9ed",
   "metadata": {},
   "source": [
    "### Data Gathering\n",
    "\n",
    "I used Pushshift Api to scrape data from Patriots and NFL subreddits in order to create a classification model to detect posts from each subreddit.I scraped the following information:\n",
    "\n",
    "   * subreddit: which subreddit the post belong to\n",
    "   * title: title of particular subreddit post\n",
    "   * author: author of the post\n",
    "   * domain: domain referenced to the post\n",
    "   * created_utc: date & time post created\n",
    "\n",
    "In total i scrapped 39,989 posts from both subreddits: 19,993 from Patriots subreddit and 19,996 from NFL subreddit."
   ]
  },
  {
   "cell_type": "markdown",
   "id": "076f3597-ac1c-4e30-894e-38dff03ee9a3",
   "metadata": {},
   "source": [
    "### Contents\n",
    "\n",
    "- [Import Libraries](#Import-Libraries)\n",
    "- [Import Data](#Import-Data)\n",
    "    - [Investigate Data](#Investigate-Data)\n",
    "    - [Cleaning Data](#Cleaning-Data)\n",
    "- [Exploratory-Data-Analysis (EDA)](#Exploratory-Data-Analysis)\n",
    "    - [Top Authors](#Top-Authors)\n",
    "    - [Top Domains](#Top-Domains)\n",
    "    - [Sentiment Analysis](#Sentiment-Analysis)\n",
    "    - [Visualizing Sentiments](#Visualizing-Sentiments)\n",
    "    - [Natural Language Processing (NLP)](#Natural-Language-Processing-(NLP))\n",
    "    - [Republicans Top 10 Unigrams](#Republicans-Top-10-Unigrams)\n",
    "    - [Conservatives Top 10 Unigrams](#Conservatives-Top-10-Unigrams)\n",
    "    - [Republicans Top 10 Bigrams](#Republicans-Top-10-Bigrams)\n",
    "    - [Conservatives Top 10 Bigrams](#Conservatives-Top-10-Bigrams)\n",
    "    - [Common Unigrams](#Common-Unigrams)\n",
    "    - [Common Bigrams](#Common-Bigrams)\n",
    "- [Feature Engineering](#Feature-Engineering)\n",
    "    - [Create Custom Stop Words](#Create-Custom-Stop-Words)\n",
    "    - [Combine Subreddits](#Combine-Subreddits)\n",
    "    - [Select Features & Target](#Select-Features-&-Target)\n",
    "- [Build Model](#Build-Model)\n",
    "    - [1.a Logistic Regression & CounterVectorizer](#1.a-Logistic-Regression-&-CounterVectorizer)\n",
    "    - [1.b Logistic Regression & TfidVectorizer](#1.b-Logistic-Regression-&-TfidVectorizer)\n",
    "    - [2.a Multinomial NB & CounterVectorizer](#2.a-Multinomial-NB-&-CounterVectorizer)\n",
    "    - [2.b Multinomial NB & TfidVectorizer](#2.b-Multinomial-NB-&-TfidVectorizer)\n",
    "- [Model Evaluation](#Model-Evaluation)\n",
    "    - [Logistic Regression & CounterVectorizer](#Logistic-Regression-&-CounterVectorizer)\n",
    "    - [Plot Confusion Matrix](#Plot-Confusion-Matrix)\n",
    "    - [Coefficients Interpretability](#Coefficients-Interpretability)\n",
    "- [Conclusions](#Conclusions)\n",
    "    - [Disadvantages](#Disadvantages)"
   ]
  },
  {
   "cell_type": "markdown",
   "id": "507039f1-667f-4908-9046-f7fd86a0efed",
   "metadata": {},
   "source": [
    "### Import Libraries"
   ]
  },
  {
   "cell_type": "code",
   "execution_count": 1,
   "id": "d677ff3c-ebec-4c2e-8472-47b16c99b6cc",
   "metadata": {},
   "outputs": [],
   "source": [
    "#Import all libraries i will need for the project\n",
    "\n",
    "import pandas as pd\n",
    "import numpy as np\n",
    "\n",
    "import matplotlib.pyplot as plt\n",
    "import seaborn as sns\n",
    "%matplotlib inline\n",
    "\n",
    "from sklearn.model_selection import train_test_split, GridSearchCV, cross_val_score\n",
    "from sklearn.linear_model import LogisticRegression\n",
    "from sklearn.neighbors import KNeighborsClassifier\n",
    "from sklearn.naive_bayes import MultinomialNB\n",
    "from sklearn.pipeline import Pipeline\n",
    "from sklearn.metrics import accuracy_score, recall_score, precision_score, confusion_matrix ,plot_confusion_matrix\n",
    "\n",
    "from sklearn.feature_extraction.text import CountVectorizer, TfidfVectorizer\n",
    "from sklearn.feature_extraction import _stop_words\n",
    "from nltk.sentiment.vader import SentimentIntensityAnalyzer\n",
    "from sklearn.preprocessing import StandardScaler\n",
    "\n",
    "import datetime\n",
    "pd.options.display.max_colwidth = 200\n",
    "\n",
    "import warnings\n",
    "warnings.simplefilter(\"ignore\")"
   ]
  },
  {
   "cell_type": "markdown",
   "id": "f75ba618-6eee-463a-8e62-0f73da07c712",
   "metadata": {},
   "source": [
    "### Import Data"
   ]
  },
  {
   "cell_type": "code",
   "execution_count": 142,
   "id": "f77fa253-3808-41bb-95d2-33650f13a89e",
   "metadata": {},
   "outputs": [
    {
     "data": {
      "text/html": [
       "<div>\n",
       "<style scoped>\n",
       "    .dataframe tbody tr th:only-of-type {\n",
       "        vertical-align: middle;\n",
       "    }\n",
       "\n",
       "    .dataframe tbody tr th {\n",
       "        vertical-align: top;\n",
       "    }\n",
       "\n",
       "    .dataframe thead th {\n",
       "        text-align: right;\n",
       "    }\n",
       "</style>\n",
       "<table border=\"1\" class=\"dataframe\">\n",
       "  <thead>\n",
       "    <tr style=\"text-align: right;\">\n",
       "      <th></th>\n",
       "      <th>subreddit</th>\n",
       "      <th>title</th>\n",
       "      <th>author</th>\n",
       "      <th>domain</th>\n",
       "      <th>timecreated</th>\n",
       "    </tr>\n",
       "  </thead>\n",
       "  <tbody>\n",
       "    <tr>\n",
       "      <th>0</th>\n",
       "      <td>Patriots</td>\n",
       "      <td>Yo what did Edelman post on his story??? (Ignore the ad at the beginning)</td>\n",
       "      <td>Patsct1203</td>\n",
       "      <td>/r/Patriots/comments/ttu70z/yo_what_did_edelman_post_on_his_story_ignore_the/</td>\n",
       "      <td>1648828738</td>\n",
       "    </tr>\n",
       "    <tr>\n",
       "      <th>1</th>\n",
       "      <td>Patriots</td>\n",
       "      <td>[Highlights] Cris Collinsworth reacts to N'Keal Harry's Catch: \"That may be the greatest catch I've ever seen in my lifetime\"</td>\n",
       "      <td>Lagooooooon</td>\n",
       "      <td>/r/Patriots/comments/tttw3w/highlights_cris_collinsworth_reacts_to_nkeal/</td>\n",
       "      <td>1648827990</td>\n",
       "    </tr>\n",
       "    <tr>\n",
       "      <th>2</th>\n",
       "      <td>Patriots</td>\n",
       "      <td>What if we did 28-3 here?</td>\n",
       "      <td>katybobaty</td>\n",
       "      <td>i.redd.it</td>\n",
       "      <td>1648827341</td>\n",
       "    </tr>\n",
       "    <tr>\n",
       "      <th>3</th>\n",
       "      <td>Patriots</td>\n",
       "      <td>Jules giving me an absolute heart attack</td>\n",
       "      <td>1337speak</td>\n",
       "      <td>twitter.com</td>\n",
       "      <td>1648825311</td>\n",
       "    </tr>\n",
       "    <tr>\n",
       "      <th>4</th>\n",
       "      <td>Patriots</td>\n",
       "      <td>Place?</td>\n",
       "      <td>Coppatop</td>\n",
       "      <td>self.Patriots</td>\n",
       "      <td>1648819178</td>\n",
       "    </tr>\n",
       "  </tbody>\n",
       "</table>\n",
       "</div>"
      ],
      "text/plain": [
       "  subreddit  \\\n",
       "0  Patriots   \n",
       "1  Patriots   \n",
       "2  Patriots   \n",
       "3  Patriots   \n",
       "4  Patriots   \n",
       "\n",
       "                                                                                                                           title  \\\n",
       "0                                                      Yo what did Edelman post on his story??? (Ignore the ad at the beginning)   \n",
       "1  [Highlights] Cris Collinsworth reacts to N'Keal Harry's Catch: \"That may be the greatest catch I've ever seen in my lifetime\"   \n",
       "2                                                                                                      What if we did 28-3 here?   \n",
       "3                                                                                       Jules giving me an absolute heart attack   \n",
       "4                                                                                                                         Place?   \n",
       "\n",
       "        author  \\\n",
       "0   Patsct1203   \n",
       "1  Lagooooooon   \n",
       "2   katybobaty   \n",
       "3    1337speak   \n",
       "4     Coppatop   \n",
       "\n",
       "                                                                          domain  \\\n",
       "0  /r/Patriots/comments/ttu70z/yo_what_did_edelman_post_on_his_story_ignore_the/   \n",
       "1      /r/Patriots/comments/tttw3w/highlights_cris_collinsworth_reacts_to_nkeal/   \n",
       "2                                                                      i.redd.it   \n",
       "3                                                                    twitter.com   \n",
       "4                                                                  self.Patriots   \n",
       "\n",
       "   timecreated  \n",
       "0   1648828738  \n",
       "1   1648827990  \n",
       "2   1648827341  \n",
       "3   1648825311  \n",
       "4   1648819178  "
      ]
     },
     "execution_count": 142,
     "metadata": {},
     "output_type": "execute_result"
    }
   ],
   "source": [
    "#Import Patriots dataset and check the shape and first 5 rows\n",
    "\n",
    "patriots = pd.read_csv('../data/patriots.csv')\n",
    "patriots.head()"
   ]
  },
  {
   "cell_type": "code",
   "execution_count": 143,
   "id": "8ac00bfd-539d-4e86-9844-47f8b4e67f7a",
   "metadata": {},
   "outputs": [
    {
     "data": {
      "text/html": [
       "<div>\n",
       "<style scoped>\n",
       "    .dataframe tbody tr th:only-of-type {\n",
       "        vertical-align: middle;\n",
       "    }\n",
       "\n",
       "    .dataframe tbody tr th {\n",
       "        vertical-align: top;\n",
       "    }\n",
       "\n",
       "    .dataframe thead th {\n",
       "        text-align: right;\n",
       "    }\n",
       "</style>\n",
       "<table border=\"1\" class=\"dataframe\">\n",
       "  <thead>\n",
       "    <tr style=\"text-align: right;\">\n",
       "      <th></th>\n",
       "      <th>subreddit</th>\n",
       "      <th>title</th>\n",
       "      <th>author</th>\n",
       "      <th>domain</th>\n",
       "      <th>timecreated</th>\n",
       "    </tr>\n",
       "  </thead>\n",
       "  <tbody>\n",
       "    <tr>\n",
       "      <th>0</th>\n",
       "      <td>nfl</td>\n",
       "      <td>The DK Diet</td>\n",
       "      <td>Mrcounterpoint420</td>\n",
       "      <td>self.nfl</td>\n",
       "      <td>1648829092</td>\n",
       "    </tr>\n",
       "    <tr>\n",
       "      <th>1</th>\n",
       "      <td>nfl</td>\n",
       "      <td>Random NFL Fact: In 1932, the Chicago Bears had 6 ties in a single season (including 3 scoreless ties in a row to start the year). Due to the Great Depression and financial losses, Hall of Fame Co...</td>\n",
       "      <td>TheFencingCoach</td>\n",
       "      <td>pro-football-reference.com</td>\n",
       "      <td>1648829039</td>\n",
       "    </tr>\n",
       "    <tr>\n",
       "      <th>2</th>\n",
       "      <td>nfl</td>\n",
       "      <td>[DIGGS] Me wanting to participate in April fools jokes…</td>\n",
       "      <td>sovinder</td>\n",
       "      <td>twitter.com</td>\n",
       "      <td>1648828988</td>\n",
       "    </tr>\n",
       "    <tr>\n",
       "      <th>3</th>\n",
       "      <td>nfl</td>\n",
       "      <td>Bricsys BricsCAD Catia 21.2 Crack Win/Mac Ultimate Torrent License Key Download 2022</td>\n",
       "      <td>kingkhan0200</td>\n",
       "      <td>imrankhansoftware.tk</td>\n",
       "      <td>1648828929</td>\n",
       "    </tr>\n",
       "    <tr>\n",
       "      <th>4</th>\n",
       "      <td>nfl</td>\n",
       "      <td>Is taking a hit from ray Lewis enough to knock someone out</td>\n",
       "      <td>Flat-Western-7921</td>\n",
       "      <td>self.nfl</td>\n",
       "      <td>1648828718</td>\n",
       "    </tr>\n",
       "  </tbody>\n",
       "</table>\n",
       "</div>"
      ],
      "text/plain": [
       "  subreddit  \\\n",
       "0       nfl   \n",
       "1       nfl   \n",
       "2       nfl   \n",
       "3       nfl   \n",
       "4       nfl   \n",
       "\n",
       "                                                                                                                                                                                                     title  \\\n",
       "0                                                                                                                                                                                              The DK Diet   \n",
       "1  Random NFL Fact: In 1932, the Chicago Bears had 6 ties in a single season (including 3 scoreless ties in a row to start the year). Due to the Great Depression and financial losses, Hall of Fame Co...   \n",
       "2                                                                                                                                                  [DIGGS] Me wanting to participate in April fools jokes…   \n",
       "3                                                                                                                     Bricsys BricsCAD Catia 21.2 Crack Win/Mac Ultimate Torrent License Key Download 2022   \n",
       "4                                                                                                                                               Is taking a hit from ray Lewis enough to knock someone out   \n",
       "\n",
       "              author                      domain  timecreated  \n",
       "0  Mrcounterpoint420                    self.nfl   1648829092  \n",
       "1    TheFencingCoach  pro-football-reference.com   1648829039  \n",
       "2           sovinder                 twitter.com   1648828988  \n",
       "3       kingkhan0200        imrankhansoftware.tk   1648828929  \n",
       "4  Flat-Western-7921                    self.nfl   1648828718  "
      ]
     },
     "execution_count": 143,
     "metadata": {},
     "output_type": "execute_result"
    }
   ],
   "source": [
    "#Import NFL datset and check the shape and first 5 rows\n",
    "\n",
    "nfl = pd.read_csv('../data/nfl.csv')\n",
    "nfl.head()"
   ]
  },
  {
   "cell_type": "markdown",
   "id": "48ca5f00-949e-419a-888f-db2864a2d2d2",
   "metadata": {},
   "source": [
    "#### Investigate Data"
   ]
  },
  {
   "cell_type": "code",
   "execution_count": 144,
   "id": "7cb7c505-f608-400d-934c-01573272931a",
   "metadata": {},
   "outputs": [
    {
     "name": "stdout",
     "output_type": "stream",
     "text": [
      "<class 'pandas.core.frame.DataFrame'>\n",
      "RangeIndex: 19993 entries, 0 to 19992\n",
      "Data columns (total 5 columns):\n",
      " #   Column       Non-Null Count  Dtype \n",
      "---  ------       --------------  ----- \n",
      " 0   subreddit    19993 non-null  object\n",
      " 1   title        19993 non-null  object\n",
      " 2   author       19993 non-null  object\n",
      " 3   domain       19993 non-null  object\n",
      " 4   timecreated  19993 non-null  int64 \n",
      "dtypes: int64(1), object(4)\n",
      "memory usage: 781.1+ KB\n"
     ]
    }
   ],
   "source": [
    "#Checking for general info for patriots dataset\n",
    "patriots.info()"
   ]
  },
  {
   "cell_type": "code",
   "execution_count": 145,
   "id": "84df31bc-9147-4bc1-ab5e-b4a4bbcd40dd",
   "metadata": {},
   "outputs": [
    {
     "name": "stdout",
     "output_type": "stream",
     "text": [
      "<class 'pandas.core.frame.DataFrame'>\n",
      "RangeIndex: 19996 entries, 0 to 19995\n",
      "Data columns (total 5 columns):\n",
      " #   Column       Non-Null Count  Dtype \n",
      "---  ------       --------------  ----- \n",
      " 0   subreddit    19996 non-null  object\n",
      " 1   title        19996 non-null  object\n",
      " 2   author       19996 non-null  object\n",
      " 3   domain       19996 non-null  object\n",
      " 4   timecreated  19996 non-null  int64 \n",
      "dtypes: int64(1), object(4)\n",
      "memory usage: 781.2+ KB\n"
     ]
    }
   ],
   "source": [
    "#Checking for general info for nfl dataset\n",
    "nfl.info()"
   ]
  },
  {
   "cell_type": "markdown",
   "id": "16b0b75a-fb28-41bc-a3d1-0142baa6af67",
   "metadata": {},
   "source": [
    "The timecreated column whould be in datetime format not int64 for both datasets"
   ]
  },
  {
   "cell_type": "code",
   "execution_count": 6,
   "id": "30cd2e63-c67c-49f1-b2e6-e436f01e8310",
   "metadata": {},
   "outputs": [
    {
     "data": {
      "text/plain": [
       "subreddit          0\n",
       "title              0\n",
       "author             0\n",
       "num_comments       0\n",
       "score              0\n",
       "num_subscribers    0\n",
       "domain             0\n",
       "timecreated        0\n",
       "dtype: int64"
      ]
     },
     "execution_count": 6,
     "metadata": {},
     "output_type": "execute_result"
    }
   ],
   "source": [
    "#Checking patriots dataset for missing values\n",
    "\n",
    "patriots.isnull().sum()"
   ]
  },
  {
   "cell_type": "code",
   "execution_count": 7,
   "id": "c9dcbf3c-e3c8-459a-ba9d-1d02f918bb7b",
   "metadata": {},
   "outputs": [
    {
     "data": {
      "text/plain": [
       "subreddit          0\n",
       "title              0\n",
       "author             0\n",
       "num_comments       0\n",
       "score              0\n",
       "num_subscribers    0\n",
       "domain             0\n",
       "timecreated        0\n",
       "dtype: int64"
      ]
     },
     "execution_count": 7,
     "metadata": {},
     "output_type": "execute_result"
    }
   ],
   "source": [
    "#Checking nfl dataset for missing values\n",
    "\n",
    "nfl.isnull().sum()"
   ]
  },
  {
   "cell_type": "code",
   "execution_count": 8,
   "id": "7cdd7d8f-275e-413c-9b09-0ccf157327ad",
   "metadata": {},
   "outputs": [
    {
     "data": {
      "text/plain": [
       "672"
      ]
     },
     "execution_count": 8,
     "metadata": {},
     "output_type": "execute_result"
    }
   ],
   "source": [
    "#Check the patriots datset for duplicated posts (the same title)\n",
    "\n",
    "patriots[patriots.duplicated(subset='title') == True].shape[0]"
   ]
  },
  {
   "cell_type": "code",
   "execution_count": 9,
   "id": "e2b5983c-0fb6-43b7-b852-79b9e30381e2",
   "metadata": {},
   "outputs": [
    {
     "data": {
      "text/plain": [
       "1176"
      ]
     },
     "execution_count": 9,
     "metadata": {},
     "output_type": "execute_result"
    }
   ],
   "source": [
    "#Check the nfl datset for duplicated posts (the same title)\n",
    "\n",
    "nfl[nfl.duplicated(subset='title') == True].shape[0]"
   ]
  },
  {
   "cell_type": "markdown",
   "id": "3fb137ef-e513-44e9-912d-46202338bead",
   "metadata": {},
   "source": [
    "I have duplicates in both datasets but more in conservative dataset. I have to remove them in order to have a clean dataset."
   ]
  },
  {
   "cell_type": "markdown",
   "id": "3f112bf7-0734-4349-b891-5c76ef2bd05a",
   "metadata": {},
   "source": [
    "#### Cleaning Data"
   ]
  },
  {
   "cell_type": "code",
   "execution_count": 10,
   "id": "6fbac275-50da-43d1-8031-d403b2b5fe08",
   "metadata": {},
   "outputs": [],
   "source": [
    "#Create a fundtion to convert epoch unix time to datetime\n",
    "\n",
    "def convert_time(df, col):\n",
    "    new_values = []\n",
    "    \n",
    "    for row in df[col].values:\n",
    "        new_values.append(datetime.datetime.fromtimestamp(row))\n",
    "    df[col] = new_values\n",
    "    return f'Now the new datatype for timecreated column is : {df[col].dtype}'"
   ]
  },
  {
   "cell_type": "code",
   "execution_count": 11,
   "id": "673593a0-863d-4203-92ef-22b7d703a807",
   "metadata": {},
   "outputs": [
    {
     "data": {
      "text/plain": [
       "'Now the new datatype for timecreated column is : datetime64[ns]'"
      ]
     },
     "execution_count": 11,
     "metadata": {},
     "output_type": "execute_result"
    }
   ],
   "source": [
    "#Convert timecreated column for republicans and conservative datasets\n",
    "\n",
    "convert_time(patriots, 'timecreated')\n",
    "convert_time(nfl, 'timecreated')"
   ]
  },
  {
   "cell_type": "code",
   "execution_count": 12,
   "id": "2b94e781-93a2-430c-9f39-e22a6a721781",
   "metadata": {},
   "outputs": [
    {
     "data": {
      "text/html": [
       "<div>\n",
       "<style scoped>\n",
       "    .dataframe tbody tr th:only-of-type {\n",
       "        vertical-align: middle;\n",
       "    }\n",
       "\n",
       "    .dataframe tbody tr th {\n",
       "        vertical-align: top;\n",
       "    }\n",
       "\n",
       "    .dataframe thead th {\n",
       "        text-align: right;\n",
       "    }\n",
       "</style>\n",
       "<table border=\"1\" class=\"dataframe\">\n",
       "  <thead>\n",
       "    <tr style=\"text-align: right;\">\n",
       "      <th></th>\n",
       "      <th>subreddit</th>\n",
       "      <th>title</th>\n",
       "      <th>author</th>\n",
       "      <th>num_comments</th>\n",
       "      <th>score</th>\n",
       "      <th>num_subscribers</th>\n",
       "      <th>domain</th>\n",
       "      <th>timecreated</th>\n",
       "    </tr>\n",
       "  </thead>\n",
       "  <tbody>\n",
       "    <tr>\n",
       "      <th>0</th>\n",
       "      <td>Patriots</td>\n",
       "      <td>If you could have a Patriots roster from any year which year would it be?</td>\n",
       "      <td>femalefirefighter56</td>\n",
       "      <td>0</td>\n",
       "      <td>1</td>\n",
       "      <td>636599</td>\n",
       "      <td>self.Patriots</td>\n",
       "      <td>2022-03-28 19:45:35</td>\n",
       "    </tr>\n",
       "    <tr>\n",
       "      <th>1</th>\n",
       "      <td>Patriots</td>\n",
       "      <td>That rare moment when 3/28 and current events collide....</td>\n",
       "      <td>5_Frog_Margin</td>\n",
       "      <td>0</td>\n",
       "      <td>1</td>\n",
       "      <td>636596</td>\n",
       "      <td>i.redd.it</td>\n",
       "      <td>2022-03-28 19:18:32</td>\n",
       "    </tr>\n",
       "    <tr>\n",
       "      <th>2</th>\n",
       "      <td>Patriots</td>\n",
       "      <td>New Nickname Opportunity</td>\n",
       "      <td>Striking_Slice953</td>\n",
       "      <td>0</td>\n",
       "      <td>1</td>\n",
       "      <td>636592</td>\n",
       "      <td>self.Patriots</td>\n",
       "      <td>2022-03-28 19:03:26</td>\n",
       "    </tr>\n",
       "    <tr>\n",
       "      <th>3</th>\n",
       "      <td>Patriots</td>\n",
       "      <td>[Matt Ryan] Suiting up for my first NBA regular season game tonight. No matter the twists and turns, highs and lows, it was all worth it. Let’s go! @celtics ☘️</td>\n",
       "      <td>Jatz55</td>\n",
       "      <td>0</td>\n",
       "      <td>1</td>\n",
       "      <td>636588</td>\n",
       "      <td>mobile.twitter.com</td>\n",
       "      <td>2022-03-28 18:17:09</td>\n",
       "    </tr>\n",
       "    <tr>\n",
       "      <th>4</th>\n",
       "      <td>Patriots</td>\n",
       "      <td>Pats Mock Draft</td>\n",
       "      <td>KJ1707</td>\n",
       "      <td>0</td>\n",
       "      <td>1</td>\n",
       "      <td>636586</td>\n",
       "      <td>self.Patriots</td>\n",
       "      <td>2022-03-28 18:07:04</td>\n",
       "    </tr>\n",
       "  </tbody>\n",
       "</table>\n",
       "</div>"
      ],
      "text/plain": [
       "  subreddit  \\\n",
       "0  Patriots   \n",
       "1  Patriots   \n",
       "2  Patriots   \n",
       "3  Patriots   \n",
       "4  Patriots   \n",
       "\n",
       "                                                                                                                                                             title  \\\n",
       "0                                                                                        If you could have a Patriots roster from any year which year would it be?   \n",
       "1                                                                                                        That rare moment when 3/28 and current events collide....   \n",
       "2                                                                                                                                         New Nickname Opportunity   \n",
       "3  [Matt Ryan] Suiting up for my first NBA regular season game tonight. No matter the twists and turns, highs and lows, it was all worth it. Let’s go! @celtics ☘️   \n",
       "4                                                                                                                                                  Pats Mock Draft   \n",
       "\n",
       "                author  num_comments  score  num_subscribers  \\\n",
       "0  femalefirefighter56             0      1           636599   \n",
       "1        5_Frog_Margin             0      1           636596   \n",
       "2    Striking_Slice953             0      1           636592   \n",
       "3               Jatz55             0      1           636588   \n",
       "4               KJ1707             0      1           636586   \n",
       "\n",
       "               domain         timecreated  \n",
       "0       self.Patriots 2022-03-28 19:45:35  \n",
       "1           i.redd.it 2022-03-28 19:18:32  \n",
       "2       self.Patriots 2022-03-28 19:03:26  \n",
       "3  mobile.twitter.com 2022-03-28 18:17:09  \n",
       "4       self.Patriots 2022-03-28 18:07:04  "
      ]
     },
     "execution_count": 12,
     "metadata": {},
     "output_type": "execute_result"
    }
   ],
   "source": [
    "#Check the datasets again to see the new timecreated column dtype\n",
    "\n",
    "patriots.head()"
   ]
  },
  {
   "cell_type": "code",
   "execution_count": 13,
   "id": "9196aad3-28e0-4b44-a26f-e572005fe7ac",
   "metadata": {},
   "outputs": [
    {
     "data": {
      "text/html": [
       "<div>\n",
       "<style scoped>\n",
       "    .dataframe tbody tr th:only-of-type {\n",
       "        vertical-align: middle;\n",
       "    }\n",
       "\n",
       "    .dataframe tbody tr th {\n",
       "        vertical-align: top;\n",
       "    }\n",
       "\n",
       "    .dataframe thead th {\n",
       "        text-align: right;\n",
       "    }\n",
       "</style>\n",
       "<table border=\"1\" class=\"dataframe\">\n",
       "  <thead>\n",
       "    <tr style=\"text-align: right;\">\n",
       "      <th></th>\n",
       "      <th>subreddit</th>\n",
       "      <th>title</th>\n",
       "      <th>author</th>\n",
       "      <th>num_comments</th>\n",
       "      <th>score</th>\n",
       "      <th>num_subscribers</th>\n",
       "      <th>domain</th>\n",
       "      <th>timecreated</th>\n",
       "    </tr>\n",
       "  </thead>\n",
       "  <tbody>\n",
       "    <tr>\n",
       "      <th>0</th>\n",
       "      <td>nfl</td>\n",
       "      <td>NFL: All teams must add minority offensive coach</td>\n",
       "      <td>guenchy</td>\n",
       "      <td>0</td>\n",
       "      <td>1</td>\n",
       "      <td>2474504</td>\n",
       "      <td>espn.com</td>\n",
       "      <td>2022-03-28 20:43:47</td>\n",
       "    </tr>\n",
       "    <tr>\n",
       "      <th>1</th>\n",
       "      <td>nfl</td>\n",
       "      <td>Texans Sign Daesean Hamilton to 1-year Deal</td>\n",
       "      <td>Clydefrog57</td>\n",
       "      <td>1</td>\n",
       "      <td>1</td>\n",
       "      <td>2474495</td>\n",
       "      <td>twitter.com</td>\n",
       "      <td>2022-03-28 20:38:33</td>\n",
       "    </tr>\n",
       "    <tr>\n",
       "      <th>2</th>\n",
       "      <td>nfl</td>\n",
       "      <td>Talk about overtime rules, let's talk about getting rid of the goal posts!</td>\n",
       "      <td>itbittitcommit</td>\n",
       "      <td>0</td>\n",
       "      <td>1</td>\n",
       "      <td>2474489</td>\n",
       "      <td>youtube.com</td>\n",
       "      <td>2022-03-28 20:36:40</td>\n",
       "    </tr>\n",
       "    <tr>\n",
       "      <th>3</th>\n",
       "      <td>nfl</td>\n",
       "      <td>who's the most hyped team going into this season?</td>\n",
       "      <td>Visible_Chocolate_69</td>\n",
       "      <td>0</td>\n",
       "      <td>1</td>\n",
       "      <td>2474482</td>\n",
       "      <td>self.nfl</td>\n",
       "      <td>2022-03-28 20:35:31</td>\n",
       "    </tr>\n",
       "    <tr>\n",
       "      <th>4</th>\n",
       "      <td>nfl</td>\n",
       "      <td>Who are the top 5 receivers going into 2022?</td>\n",
       "      <td>Little-Tower-6157</td>\n",
       "      <td>0</td>\n",
       "      <td>1</td>\n",
       "      <td>2474479</td>\n",
       "      <td>self.nfl</td>\n",
       "      <td>2022-03-28 20:32:01</td>\n",
       "    </tr>\n",
       "  </tbody>\n",
       "</table>\n",
       "</div>"
      ],
      "text/plain": [
       "  subreddit  \\\n",
       "0       nfl   \n",
       "1       nfl   \n",
       "2       nfl   \n",
       "3       nfl   \n",
       "4       nfl   \n",
       "\n",
       "                                                                        title  \\\n",
       "0                            NFL: All teams must add minority offensive coach   \n",
       "1                                 Texans Sign Daesean Hamilton to 1-year Deal   \n",
       "2  Talk about overtime rules, let's talk about getting rid of the goal posts!   \n",
       "3                           who's the most hyped team going into this season?   \n",
       "4                                Who are the top 5 receivers going into 2022?   \n",
       "\n",
       "                 author  num_comments  score  num_subscribers       domain  \\\n",
       "0               guenchy             0      1          2474504     espn.com   \n",
       "1           Clydefrog57             1      1          2474495  twitter.com   \n",
       "2        itbittitcommit             0      1          2474489  youtube.com   \n",
       "3  Visible_Chocolate_69             0      1          2474482     self.nfl   \n",
       "4     Little-Tower-6157             0      1          2474479     self.nfl   \n",
       "\n",
       "          timecreated  \n",
       "0 2022-03-28 20:43:47  \n",
       "1 2022-03-28 20:38:33  \n",
       "2 2022-03-28 20:36:40  \n",
       "3 2022-03-28 20:35:31  \n",
       "4 2022-03-28 20:32:01  "
      ]
     },
     "execution_count": 13,
     "metadata": {},
     "output_type": "execute_result"
    }
   ],
   "source": [
    "#Check the datasets again to see the new timecreated column dtype\n",
    "\n",
    "nfl.head()"
   ]
  },
  {
   "cell_type": "code",
   "execution_count": 14,
   "id": "435ecdbf-c5d6-4748-8081-dd81cba7d3e4",
   "metadata": {},
   "outputs": [
    {
     "name": "stdout",
     "output_type": "stream",
     "text": [
      "Shape of Republicans dataset is: (19993, 8)\n",
      "Shape of Conservative dataset is: (19996, 8)\n"
     ]
    }
   ],
   "source": [
    "#Check the shape for both datasets\n",
    "\n",
    "print(f'Shape of Republicans dataset is: {patriots.shape}')\n",
    "print(f'Shape of Conservative dataset is: {nfl.shape}')"
   ]
  },
  {
   "cell_type": "code",
   "execution_count": 15,
   "id": "a33ee4da-8edb-452e-b644-15a04c720550",
   "metadata": {},
   "outputs": [],
   "source": [
    "#Drop the duplicates for both datasets\n",
    "\n",
    "patriots.drop_duplicates(subset='title', inplace = True)\n",
    "nfl.drop_duplicates(subset='title', inplace = True)"
   ]
  },
  {
   "cell_type": "code",
   "execution_count": 16,
   "id": "d1c0c4c8-39e5-4c5c-9a2c-b1fb94f9c023",
   "metadata": {},
   "outputs": [
    {
     "name": "stdout",
     "output_type": "stream",
     "text": [
      "Shape of Republicans dataset is: (19321, 8)\n",
      "Shape of Conservative dataset is: (18820, 8)\n"
     ]
    }
   ],
   "source": [
    "#Check the new shape for both datasets\n",
    "\n",
    "print(f'Shape of Republicans dataset is: {patriots.shape}')\n",
    "print(f'Shape of Conservative dataset is: {nfl.shape}')"
   ]
  },
  {
   "cell_type": "code",
   "execution_count": 17,
   "id": "de5f054b-8828-4296-bb9f-9486e95851a4",
   "metadata": {},
   "outputs": [],
   "source": [
    "#Create a funtion to clean the dataset \n",
    "def clean_title(df):\n",
    "    \n",
    "    # Transform all text to lowercase\n",
    "    df['title'] = df['title'].str.lower()\n",
    "    \n",
    "    # Remove punctation\n",
    "    df['title'] = df['title'].str.replace('[^\\w\\s]',' ')\n",
    "\n",
    "    # Remove numbers \n",
    "    df['title'] = df['title'].str.replace('[^A-Za-z]',' ')\n",
    "\n",
    "    # Make sure any double-spaces are single \n",
    "    df['title'] = df['title'].str.replace('  ',' ')"
   ]
  },
  {
   "cell_type": "code",
   "execution_count": 18,
   "id": "f1ecb76b-e715-457a-bed7-9e7f65f6319f",
   "metadata": {},
   "outputs": [],
   "source": [
    "clean_title(patriots)"
   ]
  },
  {
   "cell_type": "code",
   "execution_count": 19,
   "id": "82e3fe24-03d4-47ea-b1cf-7f38b6b22e41",
   "metadata": {},
   "outputs": [],
   "source": [
    "clean_title(nfl)"
   ]
  },
  {
   "cell_type": "markdown",
   "id": "832b4131-a4ee-40fb-9cfd-5696d541a023",
   "metadata": {},
   "source": [
    "### Exploratory Data Analysis"
   ]
  },
  {
   "cell_type": "code",
   "execution_count": 109,
   "id": "026d8973-247b-4c8f-b8fd-eea351679ca0",
   "metadata": {},
   "outputs": [],
   "source": [
    "#Create a funtion to plot bar charts\n",
    "def plot_barh(df, col, title, color = 'blue'):\n",
    "    \n",
    "    plt.figure(figsize=(10,6))\n",
    "    all_values = df[col].value_counts()\n",
    "    values_over_100 = all_values[all_values.values > 100].sort_values(ascending = True)\n",
    "    \n",
    "    ax = values_over_100.plot(kind = 'barh', color = color)\n",
    "    plt.title(title)\n",
    "    plt.xlabel('Number of posts')\n",
    "    plt.ylabel(col)\n",
    "    \n",
    "    #Code found and adapted from http://robertmitchellv.com/blog-bar-chart-annotations-pandas-mpl.html\n",
    "    for i in ax.patches:\n",
    "        ax.text(i.get_width(), i.get_y(), int(i.get_width()), fontsize = 10, weight = 'bold', color = 'gray')\n",
    "    "
   ]
  },
  {
   "cell_type": "markdown",
   "id": "3c0cc9fa-62ed-4c13-8d05-c38147d38bd1",
   "metadata": {},
   "source": [
    "#### Top Authors"
   ]
  },
  {
   "cell_type": "code",
   "execution_count": 113,
   "id": "d723cca0-8929-4ab6-a33b-2e6ce6f5edb2",
   "metadata": {},
   "outputs": [
    {
     "data": {
      "image/png": "[encoded data removed]",
      "text/plain": [
       "<Figure size 720x432 with 1 Axes>"
      ]
     },
     "metadata": {
      "needs_background": "light"
     },
     "output_type": "display_data"
    }
   ],
   "source": [
    "#Checking authors with most posts for patriots\n",
    "valid_author_pats = patriots[patriots['author'] != '[deleted]']\n",
    "plot_barh(valid_author_pats, 'author', 'Authors with most posts for patriots', 'r')\n",
    "plt.savefig('patriot_author.png')"
   ]
  },
  {
   "cell_type": "markdown",
   "id": "1152004f-adfd-4b4b-8d39-520089d9390f",
   "metadata": {},
   "source": [
    "samacora looks the most active author for patriots subreddit with 877 posts "
   ]
  },
  {
   "cell_type": "code",
   "execution_count": 117,
   "id": "099b03c9-6e91-482b-b6e6-d1e0aebb1206",
   "metadata": {},
   "outputs": [
    {
     "data": {
      "image/png": "[encoded data removed]",
      "text/plain": [
       "<Figure size 720x432 with 1 Axes>"
      ]
     },
     "metadata": {
      "needs_background": "light"
     },
     "output_type": "display_data"
    }
   ],
   "source": [
    "#Checking authors with most posts for nfl\n",
    "valid_author_nfl = nfl[nfl['author'] != '[deleted]']\n",
    "plot_barh(valid_author_nfl, 'author', 'Authors with most posts for NFL', 'r')\n",
    "plt.savefig('nfl.png')"
   ]
  },
  {
   "cell_type": "markdown",
   "id": "8ad59d2f-ed50-4f76-8d3e-d1ea43893e9e",
   "metadata": {},
   "source": [
    "DaXss23 is the most active author for conservative subreddit with almost 154 posts"
   ]
  },
  {
   "cell_type": "markdown",
   "id": "20659f26-02b5-4a21-86fa-89d2599a1fe6",
   "metadata": {},
   "source": [
    "#### Top Domains"
   ]
  },
  {
   "cell_type": "code",
   "execution_count": 118,
   "id": "d0c2f572-c7a2-48d2-8587-f4a7262076d6",
   "metadata": {},
   "outputs": [
    {
     "data": {
      "image/png": "[encoded data removed]",
      "text/plain": [
       "<Figure size 720x432 with 1 Axes>"
      ]
     },
     "metadata": {
      "needs_background": "light"
     },
     "output_type": "display_data"
    }
   ],
   "source": [
    "#Checking the top domains for patriots\n",
    "plot_barh(patriots, 'domain', 'Top Domain for patriots')\n",
    "plt.savefig('pats_domain.png')"
   ]
  },
  {
   "cell_type": "markdown",
   "id": "7f416527-4a1c-47c9-b01d-bcfe5676c60d",
   "metadata": {},
   "source": [
    "self.Patriots looks the most referenced domain in patriots followed by i.redd.it and twitter.com"
   ]
  },
  {
   "cell_type": "code",
   "execution_count": 119,
   "id": "5eaaba33-17b6-4310-be22-230b51f9acd8",
   "metadata": {},
   "outputs": [
    {
     "data": {
      "image/png": "[encoded data removed]",
      "text/plain": [
       "<Figure size 720x432 with 1 Axes>"
      ]
     },
     "metadata": {
      "needs_background": "light"
     },
     "output_type": "display_data"
    }
   ],
   "source": [
    "#Checking the top domains for nfl\n",
    "plot_barh(nfl, 'domain', 'Top Domain for NFL')\n",
    "plt.savefig('nfl_domain.png')"
   ]
  },
  {
   "cell_type": "markdown",
   "id": "fcb96237-6e37-4c5f-8469-2097784da918",
   "metadata": {},
   "source": [
    "twitter followed by self.nfl are the most referenced domain in NFL subreddit"
   ]
  },
  {
   "cell_type": "markdown",
   "id": "57512ee3-c5e9-4841-8e3c-83c6e00b95d0",
   "metadata": {},
   "source": [
    "#### Sentiment Analysis"
   ]
  },
  {
   "cell_type": "code",
   "execution_count": 27,
   "id": "2d7629bd-399a-48df-9acd-d118ba5bc009",
   "metadata": {},
   "outputs": [],
   "source": [
    "#Create a function to build a dataframe for sentiment analysis\n",
    "def create_sentiment_df(df):\n",
    "    \n",
    "    #Instantiate SIA\n",
    "    sia = SentimentIntensityAnalyzer()\n",
    "    \n",
    "    sentiment = []\n",
    "    for title in list(df['title']):\n",
    "        scores = sia.polarity_scores(title)\n",
    "        sentiment.append(scores)\n",
    "    \n",
    "    df_sentiment = pd.DataFrame(sentiment)\n",
    "    df_sentiment['title'] = df['title']\n",
    "    df_sentiment['subreddit'] = df['subreddit']\n",
    "    print('The sentiment dataframe was created successfully!')\n",
    "    return df_sentiment"
   ]
  },
  {
   "cell_type": "code",
   "execution_count": 28,
   "id": "f79c81cb-2fec-4f86-8a87-ecd11395ba3d",
   "metadata": {},
   "outputs": [
    {
     "name": "stdout",
     "output_type": "stream",
     "text": [
      "The sentiment dataframe was created successfully!\n"
     ]
    },
    {
     "data": {
      "text/html": [
       "<div>\n",
       "<style scoped>\n",
       "    .dataframe tbody tr th:only-of-type {\n",
       "        vertical-align: middle;\n",
       "    }\n",
       "\n",
       "    .dataframe tbody tr th {\n",
       "        vertical-align: top;\n",
       "    }\n",
       "\n",
       "    .dataframe thead th {\n",
       "        text-align: right;\n",
       "    }\n",
       "</style>\n",
       "<table border=\"1\" class=\"dataframe\">\n",
       "  <thead>\n",
       "    <tr style=\"text-align: right;\">\n",
       "      <th></th>\n",
       "      <th>neg</th>\n",
       "      <th>neu</th>\n",
       "      <th>pos</th>\n",
       "      <th>compound</th>\n",
       "      <th>title</th>\n",
       "      <th>subreddit</th>\n",
       "    </tr>\n",
       "  </thead>\n",
       "  <tbody>\n",
       "    <tr>\n",
       "      <th>0</th>\n",
       "      <td>0.000</td>\n",
       "      <td>1.000</td>\n",
       "      <td>0.000</td>\n",
       "      <td>0.0000</td>\n",
       "      <td>if you could have a patriots roster from any year which year would it be</td>\n",
       "      <td>Patriots</td>\n",
       "    </tr>\n",
       "    <tr>\n",
       "      <th>1</th>\n",
       "      <td>0.157</td>\n",
       "      <td>0.843</td>\n",
       "      <td>0.000</td>\n",
       "      <td>-0.0772</td>\n",
       "      <td>that rare moment when   and current events collide</td>\n",
       "      <td>Patriots</td>\n",
       "    </tr>\n",
       "    <tr>\n",
       "      <th>2</th>\n",
       "      <td>0.000</td>\n",
       "      <td>0.417</td>\n",
       "      <td>0.583</td>\n",
       "      <td>0.4215</td>\n",
       "      <td>new nickname opportunity</td>\n",
       "      <td>Patriots</td>\n",
       "    </tr>\n",
       "    <tr>\n",
       "      <th>3</th>\n",
       "      <td>0.125</td>\n",
       "      <td>0.781</td>\n",
       "      <td>0.094</td>\n",
       "      <td>-0.2500</td>\n",
       "      <td>matt ryan suiting up for my first nba regular season game tonight no matter the twists and turns highs and lows it was all worth it let s go  celtics</td>\n",
       "      <td>Patriots</td>\n",
       "    </tr>\n",
       "    <tr>\n",
       "      <th>4</th>\n",
       "      <td>0.583</td>\n",
       "      <td>0.417</td>\n",
       "      <td>0.000</td>\n",
       "      <td>-0.4215</td>\n",
       "      <td>pats mock draft</td>\n",
       "      <td>Patriots</td>\n",
       "    </tr>\n",
       "  </tbody>\n",
       "</table>\n",
       "</div>"
      ],
      "text/plain": [
       "     neg    neu    pos  compound  \\\n",
       "0  0.000  1.000  0.000    0.0000   \n",
       "1  0.157  0.843  0.000   -0.0772   \n",
       "2  0.000  0.417  0.583    0.4215   \n",
       "3  0.125  0.781  0.094   -0.2500   \n",
       "4  0.583  0.417  0.000   -0.4215   \n",
       "\n",
       "                                                                                                                                                      title  \\\n",
       "0                                                                                 if you could have a patriots roster from any year which year would it be    \n",
       "1                                                                                                      that rare moment when   and current events collide     \n",
       "2                                                                                                                                  new nickname opportunity   \n",
       "3   matt ryan suiting up for my first nba regular season game tonight no matter the twists and turns highs and lows it was all worth it let s go  celtics     \n",
       "4                                                                                                                                           pats mock draft   \n",
       "\n",
       "  subreddit  \n",
       "0  Patriots  \n",
       "1  Patriots  \n",
       "2  Patriots  \n",
       "3  Patriots  \n",
       "4  Patriots  "
      ]
     },
     "execution_count": 28,
     "metadata": {},
     "output_type": "execute_result"
    }
   ],
   "source": [
    "#Create the sentiment analysis dataset for patriots\n",
    "\n",
    "df_patriots = create_sentiment_df(patriots)\n",
    "df_patriots.head()"
   ]
  },
  {
   "cell_type": "code",
   "execution_count": 29,
   "id": "4093e638-2674-4e3c-90c1-a88159300ed0",
   "metadata": {},
   "outputs": [
    {
     "name": "stdout",
     "output_type": "stream",
     "text": [
      "The sentiment dataframe was created successfully!\n"
     ]
    },
    {
     "data": {
      "text/html": [
       "<div>\n",
       "<style scoped>\n",
       "    .dataframe tbody tr th:only-of-type {\n",
       "        vertical-align: middle;\n",
       "    }\n",
       "\n",
       "    .dataframe tbody tr th {\n",
       "        vertical-align: top;\n",
       "    }\n",
       "\n",
       "    .dataframe thead th {\n",
       "        text-align: right;\n",
       "    }\n",
       "</style>\n",
       "<table border=\"1\" class=\"dataframe\">\n",
       "  <thead>\n",
       "    <tr style=\"text-align: right;\">\n",
       "      <th></th>\n",
       "      <th>neg</th>\n",
       "      <th>neu</th>\n",
       "      <th>pos</th>\n",
       "      <th>compound</th>\n",
       "      <th>title</th>\n",
       "      <th>subreddit</th>\n",
       "    </tr>\n",
       "  </thead>\n",
       "  <tbody>\n",
       "    <tr>\n",
       "      <th>0</th>\n",
       "      <td>0.3</td>\n",
       "      <td>0.700</td>\n",
       "      <td>0.000</td>\n",
       "      <td>-0.4588</td>\n",
       "      <td>nfl all teams must add minority offensive coach</td>\n",
       "      <td>nfl</td>\n",
       "    </tr>\n",
       "    <tr>\n",
       "      <th>1</th>\n",
       "      <td>0.0</td>\n",
       "      <td>1.000</td>\n",
       "      <td>0.000</td>\n",
       "      <td>0.0000</td>\n",
       "      <td>texans sign daesean hamilton to  year deal</td>\n",
       "      <td>nfl</td>\n",
       "    </tr>\n",
       "    <tr>\n",
       "      <th>2</th>\n",
       "      <td>0.0</td>\n",
       "      <td>1.000</td>\n",
       "      <td>0.000</td>\n",
       "      <td>0.0000</td>\n",
       "      <td>talk about overtime rules let s talk about getting rid of the goal posts</td>\n",
       "      <td>nfl</td>\n",
       "    </tr>\n",
       "    <tr>\n",
       "      <th>3</th>\n",
       "      <td>0.0</td>\n",
       "      <td>1.000</td>\n",
       "      <td>0.000</td>\n",
       "      <td>0.0000</td>\n",
       "      <td>who s the most hyped team going into this season</td>\n",
       "      <td>nfl</td>\n",
       "    </tr>\n",
       "    <tr>\n",
       "      <th>4</th>\n",
       "      <td>0.0</td>\n",
       "      <td>0.769</td>\n",
       "      <td>0.231</td>\n",
       "      <td>0.2023</td>\n",
       "      <td>who are the top  receivers going into</td>\n",
       "      <td>nfl</td>\n",
       "    </tr>\n",
       "  </tbody>\n",
       "</table>\n",
       "</div>"
      ],
      "text/plain": [
       "   neg    neu    pos  compound  \\\n",
       "0  0.3  0.700  0.000   -0.4588   \n",
       "1  0.0  1.000  0.000    0.0000   \n",
       "2  0.0  1.000  0.000    0.0000   \n",
       "3  0.0  1.000  0.000    0.0000   \n",
       "4  0.0  0.769  0.231    0.2023   \n",
       "\n",
       "                                                                       title  \\\n",
       "0                            nfl all teams must add minority offensive coach   \n",
       "1                                 texans sign daesean hamilton to  year deal   \n",
       "2  talk about overtime rules let s talk about getting rid of the goal posts    \n",
       "3                          who s the most hyped team going into this season    \n",
       "4                                   who are the top  receivers going into      \n",
       "\n",
       "  subreddit  \n",
       "0       nfl  \n",
       "1       nfl  \n",
       "2       nfl  \n",
       "3       nfl  \n",
       "4       nfl  "
      ]
     },
     "execution_count": 29,
     "metadata": {},
     "output_type": "execute_result"
    }
   ],
   "source": [
    "#Create the sentiment analysis dataset for nfl\n",
    "\n",
    "df_nfl = create_sentiment_df(nfl)\n",
    "df_nfl.head()"
   ]
  },
  {
   "cell_type": "markdown",
   "id": "6e7944b1-23c0-4982-8586-8dfde1fd9543",
   "metadata": {},
   "source": [
    "#### Investigating Polarities Patriots"
   ]
  },
  {
   "cell_type": "code",
   "execution_count": 30,
   "id": "d292945c-8a8d-4453-ba9d-0c07b8d0fd8f",
   "metadata": {},
   "outputs": [
    {
     "data": {
      "text/html": [
       "<div>\n",
       "<style scoped>\n",
       "    .dataframe tbody tr th:only-of-type {\n",
       "        vertical-align: middle;\n",
       "    }\n",
       "\n",
       "    .dataframe tbody tr th {\n",
       "        vertical-align: top;\n",
       "    }\n",
       "\n",
       "    .dataframe thead th {\n",
       "        text-align: right;\n",
       "    }\n",
       "</style>\n",
       "<table border=\"1\" class=\"dataframe\">\n",
       "  <thead>\n",
       "    <tr style=\"text-align: right;\">\n",
       "      <th></th>\n",
       "      <th>neg</th>\n",
       "      <th>neu</th>\n",
       "      <th>pos</th>\n",
       "      <th>compound</th>\n",
       "      <th>title</th>\n",
       "      <th>subreddit</th>\n",
       "    </tr>\n",
       "  </thead>\n",
       "  <tbody>\n",
       "    <tr>\n",
       "      <th>7238</th>\n",
       "      <td>0.0</td>\n",
       "      <td>0.0</td>\n",
       "      <td>1.0</td>\n",
       "      <td>0.4215</td>\n",
       "      <td>hey tennessee</td>\n",
       "      <td>Patriots</td>\n",
       "    </tr>\n",
       "    <tr>\n",
       "      <th>8606</th>\n",
       "      <td>0.0</td>\n",
       "      <td>0.0</td>\n",
       "      <td>1.0</td>\n",
       "      <td>0.3400</td>\n",
       "      <td>lazar belichick stole a game wrecker on the d line in rookie christian barmore</td>\n",
       "      <td>Patriots</td>\n",
       "    </tr>\n",
       "    <tr>\n",
       "      <th>1684</th>\n",
       "      <td>0.0</td>\n",
       "      <td>0.0</td>\n",
       "      <td>1.0</td>\n",
       "      <td>0.2732</td>\n",
       "      <td>tom brady is   to be an nfl head coach before the     season bovada</td>\n",
       "      <td>Patriots</td>\n",
       "    </tr>\n",
       "    <tr>\n",
       "      <th>8311</th>\n",
       "      <td>0.0</td>\n",
       "      <td>0.0</td>\n",
       "      <td>1.0</td>\n",
       "      <td>0.6705</td>\n",
       "      <td>any word on the rbs</td>\n",
       "      <td>Patriots</td>\n",
       "    </tr>\n",
       "    <tr>\n",
       "      <th>3043</th>\n",
       "      <td>0.0</td>\n",
       "      <td>0.0</td>\n",
       "      <td>1.0</td>\n",
       "      <td>0.2960</td>\n",
       "      <td>it s simply time</td>\n",
       "      <td>Patriots</td>\n",
       "    </tr>\n",
       "    <tr>\n",
       "      <th>637</th>\n",
       "      <td>0.0</td>\n",
       "      <td>0.0</td>\n",
       "      <td>1.0</td>\n",
       "      <td>0.5859</td>\n",
       "      <td>i love mac jones</td>\n",
       "      <td>Patriots</td>\n",
       "    </tr>\n",
       "    <tr>\n",
       "      <th>12979</th>\n",
       "      <td>0.0</td>\n",
       "      <td>0.0</td>\n",
       "      <td>1.0</td>\n",
       "      <td>0.0772</td>\n",
       "      <td>visited la last week figured this sub would appreciate this billboard</td>\n",
       "      <td>Patriots</td>\n",
       "    </tr>\n",
       "    <tr>\n",
       "      <th>4862</th>\n",
       "      <td>0.0</td>\n",
       "      <td>0.0</td>\n",
       "      <td>1.0</td>\n",
       "      <td>0.2732</td>\n",
       "      <td>let s be optimistic but not cockey</td>\n",
       "      <td>Patriots</td>\n",
       "    </tr>\n",
       "    <tr>\n",
       "      <th>6939</th>\n",
       "      <td>0.0</td>\n",
       "      <td>0.0</td>\n",
       "      <td>1.0</td>\n",
       "      <td>0.6369</td>\n",
       "      <td>patriots rank  heading into week</td>\n",
       "      <td>Patriots</td>\n",
       "    </tr>\n",
       "    <tr>\n",
       "      <th>7200</th>\n",
       "      <td>0.0</td>\n",
       "      <td>0.0</td>\n",
       "      <td>1.0</td>\n",
       "      <td>0.1280</td>\n",
       "      <td>i didn t know they gave r nfl commenters sports columns</td>\n",
       "      <td>Patriots</td>\n",
       "    </tr>\n",
       "  </tbody>\n",
       "</table>\n",
       "</div>"
      ],
      "text/plain": [
       "       neg  neu  pos  compound  \\\n",
       "7238   0.0  0.0  1.0    0.4215   \n",
       "8606   0.0  0.0  1.0    0.3400   \n",
       "1684   0.0  0.0  1.0    0.2732   \n",
       "8311   0.0  0.0  1.0    0.6705   \n",
       "3043   0.0  0.0  1.0    0.2960   \n",
       "637    0.0  0.0  1.0    0.5859   \n",
       "12979  0.0  0.0  1.0    0.0772   \n",
       "4862   0.0  0.0  1.0    0.2732   \n",
       "6939   0.0  0.0  1.0    0.6369   \n",
       "7200   0.0  0.0  1.0    0.1280   \n",
       "\n",
       "                                                                                title  \\\n",
       "7238                                                                    hey tennessee   \n",
       "8606   lazar belichick stole a game wrecker on the d line in rookie christian barmore   \n",
       "1684             tom brady is   to be an nfl head coach before the     season bovada    \n",
       "8311                                                             any word on the rbs    \n",
       "3043                                                                it s simply time    \n",
       "637                                                                  i love mac jones   \n",
       "12979          visited la last week figured this sub would appreciate this billboard    \n",
       "4862                                               let s be optimistic but not cockey   \n",
       "6939                                               patriots rank  heading into week     \n",
       "7200                          i didn t know they gave r nfl commenters sports columns   \n",
       "\n",
       "      subreddit  \n",
       "7238   Patriots  \n",
       "8606   Patriots  \n",
       "1684   Patriots  \n",
       "8311   Patriots  \n",
       "3043   Patriots  \n",
       "637    Patriots  \n",
       "12979  Patriots  \n",
       "4862   Patriots  \n",
       "6939   Patriots  \n",
       "7200   Patriots  "
      ]
     },
     "execution_count": 30,
     "metadata": {},
     "output_type": "execute_result"
    }
   ],
   "source": [
    "#Check for positive text for patriots\n",
    "\n",
    "df_patriots.sort_values(by = 'pos', ascending = False).head(10)"
   ]
  },
  {
   "cell_type": "code",
   "execution_count": 31,
   "id": "d4df1902-023e-4da2-a936-08b6b4417178",
   "metadata": {},
   "outputs": [
    {
     "data": {
      "text/html": [
       "<div>\n",
       "<style scoped>\n",
       "    .dataframe tbody tr th:only-of-type {\n",
       "        vertical-align: middle;\n",
       "    }\n",
       "\n",
       "    .dataframe tbody tr th {\n",
       "        vertical-align: top;\n",
       "    }\n",
       "\n",
       "    .dataframe thead th {\n",
       "        text-align: right;\n",
       "    }\n",
       "</style>\n",
       "<table border=\"1\" class=\"dataframe\">\n",
       "  <thead>\n",
       "    <tr style=\"text-align: right;\">\n",
       "      <th></th>\n",
       "      <th>neg</th>\n",
       "      <th>neu</th>\n",
       "      <th>pos</th>\n",
       "      <th>compound</th>\n",
       "      <th>title</th>\n",
       "      <th>subreddit</th>\n",
       "    </tr>\n",
       "  </thead>\n",
       "  <tbody>\n",
       "    <tr>\n",
       "      <th>8299</th>\n",
       "      <td>1.0</td>\n",
       "      <td>0.0</td>\n",
       "      <td>0.0</td>\n",
       "      <td>-0.5859</td>\n",
       "      <td>reiss practice squad moves c drake jackson and fb ben mason have been released opening two spots on the  man unit could be clearing space for a possible rb with damien harris head rhamondre steve...</td>\n",
       "      <td>Patriots</td>\n",
       "    </tr>\n",
       "    <tr>\n",
       "      <th>14929</th>\n",
       "      <td>1.0</td>\n",
       "      <td>0.0</td>\n",
       "      <td>0.0</td>\n",
       "      <td>-0.4019</td>\n",
       "      <td>patriots running backs position overview</td>\n",
       "      <td>Patriots</td>\n",
       "    </tr>\n",
       "    <tr>\n",
       "      <th>9240</th>\n",
       "      <td>1.0</td>\n",
       "      <td>0.0</td>\n",
       "      <td>0.0</td>\n",
       "      <td>-0.5267</td>\n",
       "      <td>asked patriots cb jalen mills about how the pats coach up cbs he said the biggest help is bill belichick talking them through situational tendencies helps you anticipate routes third down two minu...</td>\n",
       "      <td>Patriots</td>\n",
       "    </tr>\n",
       "    <tr>\n",
       "      <th>8014</th>\n",
       "      <td>1.0</td>\n",
       "      <td>0.0</td>\n",
       "      <td>0.0</td>\n",
       "      <td>-0.2960</td>\n",
       "      <td>nfl matchup josh mcdaniels has schemed to the strengths of qb mac jones his accuracy and quick decision making allows him to thrive in the pass game</td>\n",
       "      <td>Patriots</td>\n",
       "    </tr>\n",
       "    <tr>\n",
       "      <th>6637</th>\n",
       "      <td>1.0</td>\n",
       "      <td>0.0</td>\n",
       "      <td>0.0</td>\n",
       "      <td>-0.3182</td>\n",
       "      <td>ray rauth j c jackson has averaged   interceptions per game throughout the last four seasons</td>\n",
       "      <td>Patriots</td>\n",
       "    </tr>\n",
       "    <tr>\n",
       "      <th>11898</th>\n",
       "      <td>1.0</td>\n",
       "      <td>0.0</td>\n",
       "      <td>0.0</td>\n",
       "      <td>-0.4767</td>\n",
       "      <td>good pats bar in nyc to watch mac  and the boys</td>\n",
       "      <td>Patriots</td>\n",
       "    </tr>\n",
       "    <tr>\n",
       "      <th>10356</th>\n",
       "      <td>1.0</td>\n",
       "      <td>0.0</td>\n",
       "      <td>0.0</td>\n",
       "      <td>-0.6705</td>\n",
       "      <td>i think steve may be signaling the defense with his tongue</td>\n",
       "      <td>Patriots</td>\n",
       "    </tr>\n",
       "    <tr>\n",
       "      <th>10755</th>\n",
       "      <td>1.0</td>\n",
       "      <td>0.0</td>\n",
       "      <td>0.0</td>\n",
       "      <td>-0.4404</td>\n",
       "      <td>patriots truly one helluva story thank you jules</td>\n",
       "      <td>Patriots</td>\n",
       "    </tr>\n",
       "    <tr>\n",
       "      <th>8622</th>\n",
       "      <td>1.0</td>\n",
       "      <td>0.0</td>\n",
       "      <td>0.0</td>\n",
       "      <td>-0.3182</td>\n",
       "      <td>football fans lmk</td>\n",
       "      <td>Patriots</td>\n",
       "    </tr>\n",
       "    <tr>\n",
       "      <th>11137</th>\n",
       "      <td>1.0</td>\n",
       "      <td>0.0</td>\n",
       "      <td>0.0</td>\n",
       "      <td>-0.8271</td>\n",
       "      <td>stop posting about the discord</td>\n",
       "      <td>Patriots</td>\n",
       "    </tr>\n",
       "  </tbody>\n",
       "</table>\n",
       "</div>"
      ],
      "text/plain": [
       "       neg  neu  pos  compound  \\\n",
       "8299   1.0  0.0  0.0   -0.5859   \n",
       "14929  1.0  0.0  0.0   -0.4019   \n",
       "9240   1.0  0.0  0.0   -0.5267   \n",
       "8014   1.0  0.0  0.0   -0.2960   \n",
       "6637   1.0  0.0  0.0   -0.3182   \n",
       "11898  1.0  0.0  0.0   -0.4767   \n",
       "10356  1.0  0.0  0.0   -0.6705   \n",
       "10755  1.0  0.0  0.0   -0.4404   \n",
       "8622   1.0  0.0  0.0   -0.3182   \n",
       "11137  1.0  0.0  0.0   -0.8271   \n",
       "\n",
       "                                                                                                                                                                                                         title  \\\n",
       "8299    reiss practice squad moves c drake jackson and fb ben mason have been released opening two spots on the  man unit could be clearing space for a possible rb with damien harris head rhamondre steve...   \n",
       "14929                                                                                                                                                                patriots running backs position overview    \n",
       "9240   asked patriots cb jalen mills about how the pats coach up cbs he said the biggest help is bill belichick talking them through situational tendencies helps you anticipate routes third down two minu...   \n",
       "8014                                                     nfl matchup josh mcdaniels has schemed to the strengths of qb mac jones his accuracy and quick decision making allows him to thrive in the pass game    \n",
       "6637                                                                                                              ray rauth j c jackson has averaged   interceptions per game throughout the last four seasons   \n",
       "11898                                                                                                                                                         good pats bar in nyc to watch mac  and the boys    \n",
       "10356                                                                                                                                               i think steve may be signaling the defense with his tongue   \n",
       "10755                                                                                                                                                       patriots truly one helluva story thank you jules     \n",
       "8622                                                                                                                                                                                         football fans lmk   \n",
       "11137                                                                                                                                                                           stop posting about the discord   \n",
       "\n",
       "      subreddit  \n",
       "8299   Patriots  \n",
       "14929  Patriots  \n",
       "9240   Patriots  \n",
       "8014   Patriots  \n",
       "6637   Patriots  \n",
       "11898  Patriots  \n",
       "10356  Patriots  \n",
       "10755  Patriots  \n",
       "8622   Patriots  \n",
       "11137  Patriots  "
      ]
     },
     "execution_count": 31,
     "metadata": {},
     "output_type": "execute_result"
    }
   ],
   "source": [
    "#Check for negative text for patriots\n",
    "\n",
    "df_patriots.sort_values(by = 'neg', ascending = False).head(10)"
   ]
  },
  {
   "cell_type": "markdown",
   "id": "c0dd7d6d-28eb-4aa2-8807-687420337776",
   "metadata": {},
   "source": [
    "#### Investigating Polarities NFL"
   ]
  },
  {
   "cell_type": "code",
   "execution_count": 32,
   "id": "cab28077-f60a-411a-b604-9e4d89739de7",
   "metadata": {},
   "outputs": [
    {
     "data": {
      "text/html": [
       "<div>\n",
       "<style scoped>\n",
       "    .dataframe tbody tr th:only-of-type {\n",
       "        vertical-align: middle;\n",
       "    }\n",
       "\n",
       "    .dataframe tbody tr th {\n",
       "        vertical-align: top;\n",
       "    }\n",
       "\n",
       "    .dataframe thead th {\n",
       "        text-align: right;\n",
       "    }\n",
       "</style>\n",
       "<table border=\"1\" class=\"dataframe\">\n",
       "  <thead>\n",
       "    <tr style=\"text-align: right;\">\n",
       "      <th></th>\n",
       "      <th>neg</th>\n",
       "      <th>neu</th>\n",
       "      <th>pos</th>\n",
       "      <th>compound</th>\n",
       "      <th>title</th>\n",
       "      <th>subreddit</th>\n",
       "    </tr>\n",
       "  </thead>\n",
       "  <tbody>\n",
       "    <tr>\n",
       "      <th>11085</th>\n",
       "      <td>0.0</td>\n",
       "      <td>0.0</td>\n",
       "      <td>1.0</td>\n",
       "      <td>0.4215</td>\n",
       "      <td>petition to make the referees the mvp of the superbowl</td>\n",
       "      <td>nfl</td>\n",
       "    </tr>\n",
       "    <tr>\n",
       "      <th>4906</th>\n",
       "      <td>0.0</td>\n",
       "      <td>0.0</td>\n",
       "      <td>1.0</td>\n",
       "      <td>0.1779</td>\n",
       "      <td>steelers are extending chucks okorafor</td>\n",
       "      <td>nfl</td>\n",
       "    </tr>\n",
       "    <tr>\n",
       "      <th>6394</th>\n",
       "      <td>0.0</td>\n",
       "      <td>0.0</td>\n",
       "      <td>1.0</td>\n",
       "      <td>0.5994</td>\n",
       "      <td>name a player that you were disappointed about your team losing in free agency last year how do you feel about your team s decision now</td>\n",
       "      <td>nfl</td>\n",
       "    </tr>\n",
       "    <tr>\n",
       "      <th>1989</th>\n",
       "      <td>0.0</td>\n",
       "      <td>0.0</td>\n",
       "      <td>1.0</td>\n",
       "      <td>0.5267</td>\n",
       "      <td>glazer scoopage colts are trying to work out a trade right now with atlanta for qb matt ryan nflonfox not completed yet but trying to finalize</td>\n",
       "      <td>nfl</td>\n",
       "    </tr>\n",
       "    <tr>\n",
       "      <th>16344</th>\n",
       "      <td>0.0</td>\n",
       "      <td>0.0</td>\n",
       "      <td>1.0</td>\n",
       "      <td>0.5267</td>\n",
       "      <td>brady in     i ve got another  or  years  peyton has  that s the final chapter game on  the evidence was out there all along</td>\n",
       "      <td>nfl</td>\n",
       "    </tr>\n",
       "    <tr>\n",
       "      <th>12415</th>\n",
       "      <td>0.0</td>\n",
       "      <td>0.0</td>\n",
       "      <td>1.0</td>\n",
       "      <td>0.4019</td>\n",
       "      <td>pelissero the dolphins are interviewing chargers run game coordinator ol coach frank smith today for their offensive coordinator job source said smith has a strong history developing tight ends a...</td>\n",
       "      <td>nfl</td>\n",
       "    </tr>\n",
       "    <tr>\n",
       "      <th>10371</th>\n",
       "      <td>0.0</td>\n",
       "      <td>0.0</td>\n",
       "      <td>1.0</td>\n",
       "      <td>0.5267</td>\n",
       "      <td>s per bowl fly over</td>\n",
       "      <td>nfl</td>\n",
       "    </tr>\n",
       "    <tr>\n",
       "      <th>6361</th>\n",
       "      <td>0.0</td>\n",
       "      <td>0.0</td>\n",
       "      <td>1.0</td>\n",
       "      <td>0.2732</td>\n",
       "      <td>nflpa a look at each nfl club s cash spending for the   season as of     league wide spending is   of the cap</td>\n",
       "      <td>nfl</td>\n",
       "    </tr>\n",
       "    <tr>\n",
       "      <th>5221</th>\n",
       "      <td>0.0</td>\n",
       "      <td>0.0</td>\n",
       "      <td>1.0</td>\n",
       "      <td>0.6249</td>\n",
       "      <td>packers agree to terms with preston smith on four year    m extension za darius smith released</td>\n",
       "      <td>nfl</td>\n",
       "    </tr>\n",
       "    <tr>\n",
       "      <th>2369</th>\n",
       "      <td>0.0</td>\n",
       "      <td>0.0</td>\n",
       "      <td>1.0</td>\n",
       "      <td>0.4215</td>\n",
       "      <td>rapoport source robert woods to the titans</td>\n",
       "      <td>nfl</td>\n",
       "    </tr>\n",
       "  </tbody>\n",
       "</table>\n",
       "</div>"
      ],
      "text/plain": [
       "       neg  neu  pos  compound  \\\n",
       "11085  0.0  0.0  1.0    0.4215   \n",
       "4906   0.0  0.0  1.0    0.1779   \n",
       "6394   0.0  0.0  1.0    0.5994   \n",
       "1989   0.0  0.0  1.0    0.5267   \n",
       "16344  0.0  0.0  1.0    0.5267   \n",
       "12415  0.0  0.0  1.0    0.4019   \n",
       "10371  0.0  0.0  1.0    0.5267   \n",
       "6361   0.0  0.0  1.0    0.2732   \n",
       "5221   0.0  0.0  1.0    0.6249   \n",
       "2369   0.0  0.0  1.0    0.4215   \n",
       "\n",
       "                                                                                                                                                                                                         title  \\\n",
       "11085                                                                                                                                                   petition to make the referees the mvp of the superbowl   \n",
       "4906                                                                                                                                                                    steelers are extending chucks okorafor   \n",
       "6394                                                                  name a player that you were disappointed about your team losing in free agency last year how do you feel about your team s decision now    \n",
       "1989                                                            glazer scoopage colts are trying to work out a trade right now with atlanta for qb matt ryan nflonfox not completed yet but trying to finalize   \n",
       "16344                                                                            brady in     i ve got another  or  years  peyton has  that s the final chapter game on  the evidence was out there all along    \n",
       "12415   pelissero the dolphins are interviewing chargers run game coordinator ol coach frank smith today for their offensive coordinator job source said smith has a strong history developing tight ends a...   \n",
       "10371                                                                                                                                                                                     s per bowl fly over    \n",
       "6361                                                                                            nflpa a look at each nfl club s cash spending for the   season as of     league wide spending is   of the cap    \n",
       "5221                                                                                                            packers agree to terms with preston smith on four year    m extension za darius smith released   \n",
       "2369                                                                                                                                                               rapoport source robert woods to the titans    \n",
       "\n",
       "      subreddit  \n",
       "11085       nfl  \n",
       "4906        nfl  \n",
       "6394        nfl  \n",
       "1989        nfl  \n",
       "16344       nfl  \n",
       "12415       nfl  \n",
       "10371       nfl  \n",
       "6361        nfl  \n",
       "5221        nfl  \n",
       "2369        nfl  "
      ]
     },
     "execution_count": 32,
     "metadata": {},
     "output_type": "execute_result"
    }
   ],
   "source": [
    "#Check for positive text for nfl\n",
    "\n",
    "df_nfl.sort_values(by = 'pos', ascending = False).head(10)"
   ]
  },
  {
   "cell_type": "code",
   "execution_count": 33,
   "id": "78d95038-3d32-4470-9596-e70a2a115be6",
   "metadata": {},
   "outputs": [
    {
     "data": {
      "text/html": [
       "<div>\n",
       "<style scoped>\n",
       "    .dataframe tbody tr th:only-of-type {\n",
       "        vertical-align: middle;\n",
       "    }\n",
       "\n",
       "    .dataframe tbody tr th {\n",
       "        vertical-align: top;\n",
       "    }\n",
       "\n",
       "    .dataframe thead th {\n",
       "        text-align: right;\n",
       "    }\n",
       "</style>\n",
       "<table border=\"1\" class=\"dataframe\">\n",
       "  <thead>\n",
       "    <tr style=\"text-align: right;\">\n",
       "      <th></th>\n",
       "      <th>neg</th>\n",
       "      <th>neu</th>\n",
       "      <th>pos</th>\n",
       "      <th>compound</th>\n",
       "      <th>title</th>\n",
       "      <th>subreddit</th>\n",
       "    </tr>\n",
       "  </thead>\n",
       "  <tbody>\n",
       "    <tr>\n",
       "      <th>11300</th>\n",
       "      <td>1.000</td>\n",
       "      <td>0.000</td>\n",
       "      <td>0.0</td>\n",
       "      <td>-0.1779</td>\n",
       "      <td>eli apple</td>\n",
       "      <td>nfl</td>\n",
       "    </tr>\n",
       "    <tr>\n",
       "      <th>16391</th>\n",
       "      <td>1.000</td>\n",
       "      <td>0.000</td>\n",
       "      <td>0.0</td>\n",
       "      <td>-0.5859</td>\n",
       "      <td>new england patriots it was quite the ride thank you and congratulations  tombrady</td>\n",
       "      <td>nfl</td>\n",
       "    </tr>\n",
       "    <tr>\n",
       "      <th>11958</th>\n",
       "      <td>1.000</td>\n",
       "      <td>0.000</td>\n",
       "      <td>0.0</td>\n",
       "      <td>-0.4019</td>\n",
       "      <td>we are the   super clio jury featuring gary vaynerchuck roxy young mark cuban amp more we re a panel of ad execs amp pop culture influencers selected by the clio awards to choose the most creative...</td>\n",
       "      <td>nfl</td>\n",
       "    </tr>\n",
       "    <tr>\n",
       "      <th>17361</th>\n",
       "      <td>1.000</td>\n",
       "      <td>0.000</td>\n",
       "      <td>0.0</td>\n",
       "      <td>-0.5106</td>\n",
       "      <td>will the rams have to use the visitor locker room in  weeks</td>\n",
       "      <td>nfl</td>\n",
       "    </tr>\n",
       "    <tr>\n",
       "      <th>7003</th>\n",
       "      <td>1.000</td>\n",
       "      <td>0.000</td>\n",
       "      <td>0.0</td>\n",
       "      <td>-0.3612</td>\n",
       "      <td>schefter tagged so far  ot orlando brown s jessie bates te david njoku te mike gesicki still expected to be tagged  wr davante adams wr chris godwin mike williams dalton schultz</td>\n",
       "      <td>nfl</td>\n",
       "    </tr>\n",
       "    <tr>\n",
       "      <th>10495</th>\n",
       "      <td>1.000</td>\n",
       "      <td>0.000</td>\n",
       "      <td>0.0</td>\n",
       "      <td>-0.3612</td>\n",
       "      <td>pff highest graded players in the super bowl</td>\n",
       "      <td>nfl</td>\n",
       "    </tr>\n",
       "    <tr>\n",
       "      <th>7277</th>\n",
       "      <td>1.000</td>\n",
       "      <td>0.000</td>\n",
       "      <td>0.0</td>\n",
       "      <td>-0.4939</td>\n",
       "      <td>which team wins if there were x  m relay competition among  teams</td>\n",
       "      <td>nfl</td>\n",
       "    </tr>\n",
       "    <tr>\n",
       "      <th>16808</th>\n",
       "      <td>1.000</td>\n",
       "      <td>0.000</td>\n",
       "      <td>0.0</td>\n",
       "      <td>-0.4019</td>\n",
       "      <td>should the chiefs fire andy reid</td>\n",
       "      <td>nfl</td>\n",
       "    </tr>\n",
       "    <tr>\n",
       "      <th>9610</th>\n",
       "      <td>1.000</td>\n",
       "      <td>0.000</td>\n",
       "      <td>0.0</td>\n",
       "      <td>-0.5423</td>\n",
       "      <td>moo most pff war accumulated by non qbs in a season         rams      ers     eagles     ravens   to be successful with the trade for a vet qb who isn t elite route you only need to have the best...</td>\n",
       "      <td>nfl</td>\n",
       "    </tr>\n",
       "    <tr>\n",
       "      <th>2497</th>\n",
       "      <td>0.861</td>\n",
       "      <td>0.139</td>\n",
       "      <td>0.0</td>\n",
       "      <td>-0.7351</td>\n",
       "      <td>schefter sacrebleu  odell beckham a sign un contrat de  ans et  millions de dollars avec les commandents  putain de merde</td>\n",
       "      <td>nfl</td>\n",
       "    </tr>\n",
       "  </tbody>\n",
       "</table>\n",
       "</div>"
      ],
      "text/plain": [
       "         neg    neu  pos  compound  \\\n",
       "11300  1.000  0.000  0.0   -0.1779   \n",
       "16391  1.000  0.000  0.0   -0.5859   \n",
       "11958  1.000  0.000  0.0   -0.4019   \n",
       "17361  1.000  0.000  0.0   -0.5106   \n",
       "7003   1.000  0.000  0.0   -0.3612   \n",
       "10495  1.000  0.000  0.0   -0.3612   \n",
       "7277   1.000  0.000  0.0   -0.4939   \n",
       "16808  1.000  0.000  0.0   -0.4019   \n",
       "9610   1.000  0.000  0.0   -0.5423   \n",
       "2497   0.861  0.139  0.0   -0.7351   \n",
       "\n",
       "                                                                                                                                                                                                         title  \\\n",
       "11300                                                                                                                                                                                               eli apple    \n",
       "16391                                                                                                                      new england patriots it was quite the ride thank you and congratulations  tombrady    \n",
       "11958  we are the   super clio jury featuring gary vaynerchuck roxy young mark cuban amp more we re a panel of ad execs amp pop culture influencers selected by the clio awards to choose the most creative...   \n",
       "17361                                                                                                                                             will the rams have to use the visitor locker room in  weeks    \n",
       "7003                         schefter tagged so far  ot orlando brown s jessie bates te david njoku te mike gesicki still expected to be tagged  wr davante adams wr chris godwin mike williams dalton schultz   \n",
       "10495                                                                                                                                                             pff highest graded players in the super bowl   \n",
       "7277                                                                                                                                        which team wins if there were x  m relay competition among  teams    \n",
       "16808                                                                                                                                                                        should the chiefs fire andy reid    \n",
       "9610    moo most pff war accumulated by non qbs in a season         rams      ers     eagles     ravens   to be successful with the trade for a vet qb who isn t elite route you only need to have the best...   \n",
       "2497                                                                                schefter sacrebleu  odell beckham a sign un contrat de  ans et  millions de dollars avec les commandents  putain de merde    \n",
       "\n",
       "      subreddit  \n",
       "11300       nfl  \n",
       "16391       nfl  \n",
       "11958       nfl  \n",
       "17361       nfl  \n",
       "7003        nfl  \n",
       "10495       nfl  \n",
       "7277        nfl  \n",
       "16808       nfl  \n",
       "9610        nfl  \n",
       "2497        nfl  "
      ]
     },
     "execution_count": 33,
     "metadata": {},
     "output_type": "execute_result"
    }
   ],
   "source": [
    "#Check for negative text for nfl\n",
    "\n",
    "df_nfl.sort_values(by = 'neg', ascending = False).head(10)"
   ]
  },
  {
   "cell_type": "markdown",
   "id": "89fee7c2-b4fd-4487-9f22-960dcb38e002",
   "metadata": {},
   "source": [
    "#### Visualizing Sentiments"
   ]
  },
  {
   "cell_type": "code",
   "execution_count": 34,
   "id": "2c29424a-7d6e-455d-a4dd-8b2e973b01a4",
   "metadata": {},
   "outputs": [
    {
     "data": {
      "text/html": [
       "<div>\n",
       "<style scoped>\n",
       "    .dataframe tbody tr th:only-of-type {\n",
       "        vertical-align: middle;\n",
       "    }\n",
       "\n",
       "    .dataframe tbody tr th {\n",
       "        vertical-align: top;\n",
       "    }\n",
       "\n",
       "    .dataframe thead th {\n",
       "        text-align: right;\n",
       "    }\n",
       "</style>\n",
       "<table border=\"1\" class=\"dataframe\">\n",
       "  <thead>\n",
       "    <tr style=\"text-align: right;\">\n",
       "      <th></th>\n",
       "      <th>neg</th>\n",
       "      <th>neu</th>\n",
       "      <th>pos</th>\n",
       "      <th>compound</th>\n",
       "      <th>title</th>\n",
       "      <th>subreddit</th>\n",
       "    </tr>\n",
       "  </thead>\n",
       "  <tbody>\n",
       "    <tr>\n",
       "      <th>0</th>\n",
       "      <td>0.000</td>\n",
       "      <td>1.000</td>\n",
       "      <td>0.000</td>\n",
       "      <td>0.0000</td>\n",
       "      <td>if you could have a patriots roster from any year which year would it be</td>\n",
       "      <td>Patriots</td>\n",
       "    </tr>\n",
       "    <tr>\n",
       "      <th>1</th>\n",
       "      <td>0.157</td>\n",
       "      <td>0.843</td>\n",
       "      <td>0.000</td>\n",
       "      <td>-0.0772</td>\n",
       "      <td>that rare moment when   and current events collide</td>\n",
       "      <td>Patriots</td>\n",
       "    </tr>\n",
       "    <tr>\n",
       "      <th>2</th>\n",
       "      <td>0.000</td>\n",
       "      <td>0.417</td>\n",
       "      <td>0.583</td>\n",
       "      <td>0.4215</td>\n",
       "      <td>new nickname opportunity</td>\n",
       "      <td>Patriots</td>\n",
       "    </tr>\n",
       "    <tr>\n",
       "      <th>3</th>\n",
       "      <td>0.125</td>\n",
       "      <td>0.781</td>\n",
       "      <td>0.094</td>\n",
       "      <td>-0.2500</td>\n",
       "      <td>matt ryan suiting up for my first nba regular season game tonight no matter the twists and turns highs and lows it was all worth it let s go  celtics</td>\n",
       "      <td>Patriots</td>\n",
       "    </tr>\n",
       "    <tr>\n",
       "      <th>4</th>\n",
       "      <td>0.583</td>\n",
       "      <td>0.417</td>\n",
       "      <td>0.000</td>\n",
       "      <td>-0.4215</td>\n",
       "      <td>pats mock draft</td>\n",
       "      <td>Patriots</td>\n",
       "    </tr>\n",
       "    <tr>\n",
       "      <th>38136</th>\n",
       "      <td>0.390</td>\n",
       "      <td>0.610</td>\n",
       "      <td>0.000</td>\n",
       "      <td>-0.4939</td>\n",
       "      <td>hof class with brady retiring</td>\n",
       "      <td>nfl</td>\n",
       "    </tr>\n",
       "    <tr>\n",
       "      <th>38137</th>\n",
       "      <td>0.000</td>\n",
       "      <td>1.000</td>\n",
       "      <td>0.000</td>\n",
       "      <td>0.0000</td>\n",
       "      <td>NaN</td>\n",
       "      <td>NaN</td>\n",
       "    </tr>\n",
       "    <tr>\n",
       "      <th>38138</th>\n",
       "      <td>0.375</td>\n",
       "      <td>0.625</td>\n",
       "      <td>0.000</td>\n",
       "      <td>-0.7650</td>\n",
       "      <td>who is the best qb in the nfc with brady retiring and rodgers possibly leaving</td>\n",
       "      <td>nfl</td>\n",
       "    </tr>\n",
       "    <tr>\n",
       "      <th>38139</th>\n",
       "      <td>0.000</td>\n",
       "      <td>1.000</td>\n",
       "      <td>0.000</td>\n",
       "      <td>0.0000</td>\n",
       "      <td>tom brady s accolades throughout his career</td>\n",
       "      <td>nfl</td>\n",
       "    </tr>\n",
       "    <tr>\n",
       "      <th>38140</th>\n",
       "      <td>0.000</td>\n",
       "      <td>0.903</td>\n",
       "      <td>0.097</td>\n",
       "      <td>0.1280</td>\n",
       "      <td>statmuse tom brady has won    of all super bowls in history</td>\n",
       "      <td>nfl</td>\n",
       "    </tr>\n",
       "  </tbody>\n",
       "</table>\n",
       "</div>"
      ],
      "text/plain": [
       "         neg    neu    pos  compound  \\\n",
       "0      0.000  1.000  0.000    0.0000   \n",
       "1      0.157  0.843  0.000   -0.0772   \n",
       "2      0.000  0.417  0.583    0.4215   \n",
       "3      0.125  0.781  0.094   -0.2500   \n",
       "4      0.583  0.417  0.000   -0.4215   \n",
       "38136  0.390  0.610  0.000   -0.4939   \n",
       "38137  0.000  1.000  0.000    0.0000   \n",
       "38138  0.375  0.625  0.000   -0.7650   \n",
       "38139  0.000  1.000  0.000    0.0000   \n",
       "38140  0.000  0.903  0.097    0.1280   \n",
       "\n",
       "                                                                                                                                                          title  \\\n",
       "0                                                                                     if you could have a patriots roster from any year which year would it be    \n",
       "1                                                                                                          that rare moment when   and current events collide     \n",
       "2                                                                                                                                      new nickname opportunity   \n",
       "3       matt ryan suiting up for my first nba regular season game tonight no matter the twists and turns highs and lows it was all worth it let s go  celtics     \n",
       "4                                                                                                                                               pats mock draft   \n",
       "38136                                                                                                                             hof class with brady retiring   \n",
       "38137                                                                                                                                                       NaN   \n",
       "38138                                                                           who is the best qb in the nfc with brady retiring and rodgers possibly leaving    \n",
       "38139                                                                                                              tom brady s accolades throughout his career    \n",
       "38140                                                                                              statmuse tom brady has won    of all super bowls in history    \n",
       "\n",
       "      subreddit  \n",
       "0      Patriots  \n",
       "1      Patriots  \n",
       "2      Patriots  \n",
       "3      Patriots  \n",
       "4      Patriots  \n",
       "38136       nfl  \n",
       "38137       NaN  \n",
       "38138       nfl  \n",
       "38139       nfl  \n",
       "38140       nfl  "
      ]
     },
     "execution_count": 34,
     "metadata": {},
     "output_type": "execute_result"
    }
   ],
   "source": [
    "#Combine both sentiments dataset\n",
    "combine_sentiments = pd.concat([df_patriots, df_nfl]).reset_index(drop = True)\n",
    "\n",
    "#Check both head and tail\n",
    "combine_sentiments.head().append(combine_sentiments.tail())"
   ]
  },
  {
   "cell_type": "code",
   "execution_count": 35,
   "id": "9024f350-acf9-4017-82c9-46ccf4fb4b21",
   "metadata": {},
   "outputs": [
    {
     "data": {
      "image/png": "[encoded data removed]",
      "text/plain": [
       "<Figure size 720x432 with 1 Axes>"
      ]
     },
     "metadata": {
      "needs_background": "light"
     },
     "output_type": "display_data"
    }
   ],
   "source": [
    "combine_sentiments.groupby('subreddit').mean()[['neg', 'pos', 'compound']].plot(kind = 'barh', figsize = (10,6))\n",
    "plt.title('Average of Negative, Neutral, Positive & Compound Scores')\n",
    "plt.xlabel('Scores')\n",
    "plt.ylabel('Subreddit');"
   ]
  },
  {
   "cell_type": "markdown",
   "id": "667b7c4d-2d33-43aa-9162-9ad1b1f4fd99",
   "metadata": {},
   "source": []
  },
  {
   "cell_type": "markdown",
   "id": "ab8aa71c-c2f3-45ac-a6e0-5e511fdeb6cd",
   "metadata": {},
   "source": [
    "### Natural Language Processing (NLP)"
   ]
  },
  {
   "cell_type": "code",
   "execution_count": 36,
   "id": "7dae4b97-03dc-46c1-bf47-c8ed5126db0a",
   "metadata": {},
   "outputs": [],
   "source": [
    "#Create a funtion to get the unigrams\n",
    "def get_unigrams(subreddit):\n",
    "    #Instiate the CounterVectorizer for unigrams\n",
    "    cvec = CountVectorizer(stop_words='english', ngram_range=(1, 1))\n",
    "    \n",
    "    #Fit transform \n",
    "    subreddit_cvec = cvec.fit_transform(subreddit['title'])\n",
    "    #Convert to a dataframe\n",
    "    subreddit_df = pd.DataFrame(subreddit_cvec.todense(), columns=cvec.get_feature_names())\n",
    "    \n",
    "    return subreddit_df\n",
    "\n",
    "\n",
    "#Create a funtion to get the bigrams\n",
    "def get_bigrams(subreddit):\n",
    "    #Instiate the CounterVectorizer for bigrams\n",
    "    cvec = CountVectorizer(stop_words='english', ngram_range=(2, 2))\n",
    "    \n",
    "    #Fit transform \n",
    "    subreddit_cvec = cvec.fit_transform(subreddit['title'])\n",
    "    #Convert to a dataframe\n",
    "    subreddit_df = pd.DataFrame(subreddit_cvec.todense(), columns=cvec.get_feature_names())\n",
    "    \n",
    "    return subreddit_df"
   ]
  },
  {
   "cell_type": "code",
   "execution_count": 37,
   "id": "310b2f15-5e33-42d1-86b3-9ed42ff62fbd",
   "metadata": {},
   "outputs": [],
   "source": [
    "#Create a funtion to plot unigrams and bigrams\n",
    "def plot_uni_bi_grams(subreddit, title,  kind = ['unigram', 'bigram'], color = 'blue'):\n",
    "    \n",
    "    #Set the figure size\n",
    "    plt.figure(figsize=(9,5))\n",
    "    \n",
    "    #Check the condition for grams\n",
    "    if kind == 'unigram':\n",
    "        unigrams = get_unigrams(subreddit) #Calling the funtion for getting unigrams into a dataframe\n",
    "        #Select top 10 unigrams and Plot these to a barchart\n",
    "        top_10_words = unigrams.sum().sort_values(ascending = False).head(10)\n",
    "        ax = top_10_words.sort_values(ascending = True).plot(kind = 'barh', color = color)\n",
    "        plt.title(title)\n",
    "        plt.xlabel('Count of words')\n",
    "        plt.ylabel('Unigrams')\n",
    "        \n",
    "    if kind == 'bigram':\n",
    "        bigrams = get_bigrams(subreddit) # Calling the funtion for getting bigrams into a dataframe\n",
    "        #Select top 10 bigrams andPlot these to a barchart\n",
    "        top_10_words = bigrams.sum().sort_values(ascending = False).head(10)\n",
    "        ax = top_10_words.sort_values(ascending = True).plot(kind = 'barh', color = color)\n",
    "        plt.title(title)\n",
    "        plt.xlabel('Count of words')\n",
    "        plt.ylabel('Bigrams')\n",
    "        \n",
    "    \n",
    "    #Count the times of word\n",
    "    for i in ax.patches:\n",
    "        ax.text(i.get_width(), i.get_y(), i.get_width())"
   ]
  },
  {
   "cell_type": "markdown",
   "id": "169bc7db-5f2a-4e32-a313-fc4c99d54027",
   "metadata": {},
   "source": [
    "#### Patriots Top 10 Unigrams"
   ]
  },
  {
   "cell_type": "code",
   "execution_count": 120,
   "id": "1157836d-dd92-406e-a482-600ab1d0f4a0",
   "metadata": {},
   "outputs": [
    {
     "data": {
      "image/png": "[encoded data removed]",
      "text/plain": [
       "<Figure size 648x360 with 1 Axes>"
      ]
     },
     "metadata": {
      "needs_background": "light"
     },
     "output_type": "display_data"
    }
   ],
   "source": [
    "#Call the fuction to plot top 10 unigrams for Patriots\n",
    "plot_uni_bi_grams(patriots, 'Top 10 words for Patriots',  'unigram', color = 'navy')\n",
    "plt.savefig('pats_10_words.png')"
   ]
  },
  {
   "cell_type": "markdown",
   "id": "9105e0a3-905b-4b7a-a888-fcb13c981f7e",
   "metadata": {},
   "source": [
    "Patriots, mac and jones are thre most used words in patriots subreddit"
   ]
  },
  {
   "cell_type": "markdown",
   "id": "bcaed50b-e0e2-4184-ab08-3f9e40ab7fff",
   "metadata": {},
   "source": [
    "#### NFL Top 10 Unigrams"
   ]
  },
  {
   "cell_type": "code",
   "execution_count": 121,
   "id": "abaf74fe-0f6b-440e-90f3-57e2bd707792",
   "metadata": {},
   "outputs": [
    {
     "data": {
      "image/png": "[encoded data removed]",
      "text/plain": [
       "<Figure size 648x360 with 1 Axes>"
      ]
     },
     "metadata": {
      "needs_background": "light"
     },
     "output_type": "display_data"
    }
   ],
   "source": [
    "#Call the fuction to plot top 10 unigrams for nfl\n",
    "plot_uni_bi_grams(nfl, 'Top 10 words for NFL',  'unigram', color = 'navy')\n",
    "plt.savefig('nfl_10_words.png')"
   ]
  },
  {
   "cell_type": "markdown",
   "id": "a543eb3b-9c33-4ebf-9912-81664a4a5486",
   "metadata": {},
   "source": [
    "nfl, bowl and super words appears to be the most used words in posts for nfl."
   ]
  },
  {
   "cell_type": "markdown",
   "id": "1117f534-8ce1-4ad6-a50f-750c51e7031d",
   "metadata": {},
   "source": [
    "#### Patriots Top 10 Bigrams"
   ]
  },
  {
   "cell_type": "code",
   "execution_count": 124,
   "id": "f2b75d93-58f6-46c9-b235-5eca72af9698",
   "metadata": {},
   "outputs": [
    {
     "data": {
      "image/png": "[encoded data removed]",
      "text/plain": [
       "<Figure size 648x360 with 1 Axes>"
      ]
     },
     "metadata": {
      "needs_background": "light"
     },
     "output_type": "display_data"
    }
   ],
   "source": [
    "#Call the fuction to plot top 10 bigrams for Patriots\n",
    "plot_uni_bi_grams(patriots, 'Top 10 bigrams for Patriots',  'bigram', color = 'orange')\n",
    "plt.savefig('pats_bigram.png')"
   ]
  },
  {
   "cell_type": "markdown",
   "id": "362c1df6-3987-485f-9bca-b6e17765d83f",
   "metadata": {},
   "source": [
    "The most used biwords for patriots posts are \"mac jones\" followed by \"tom brady\" and \"new england\""
   ]
  },
  {
   "cell_type": "markdown",
   "id": "3fa66fdd-688b-430c-b702-b275aeaa6f7e",
   "metadata": {},
   "source": [
    "#### NFL Top 10 Bigrams"
   ]
  },
  {
   "cell_type": "code",
   "execution_count": 126,
   "id": "dfbfebba-93bc-4f1d-9fe9-63d591c06976",
   "metadata": {},
   "outputs": [
    {
     "data": {
      "image/png": "[encoded data removed]",
      "text/plain": [
       "<Figure size 648x360 with 1 Axes>"
      ]
     },
     "metadata": {
      "needs_background": "light"
     },
     "output_type": "display_data"
    }
   ],
   "source": [
    "#Call the fuction to plot top 10 bigrams for nfl\n",
    "plot_uni_bi_grams(nfl, 'Top 10 bigrams for NFL',  'bigram', color = 'orange')\n",
    "plt.savefig('nfl_bigram.png')"
   ]
  },
  {
   "cell_type": "markdown",
   "id": "bfced736-1ebe-4d30-bfe7-d4b4721f3332",
   "metadata": {},
   "source": [
    "The most used biwords for nfl posts are  \"deshaun watson\" followed \"super bowl\" and \"year deal\""
   ]
  },
  {
   "cell_type": "markdown",
   "id": "659a1660-2003-47e8-a4bb-a60586a0d1bd",
   "metadata": {},
   "source": [
    "#### Common Unigrams"
   ]
  },
  {
   "cell_type": "code",
   "execution_count": 123,
   "id": "0e97170a-a38d-4fe5-82bd-f5ddce2e459a",
   "metadata": {},
   "outputs": [
    {
     "data": {
      "text/plain": [
       "Index(['game', 'brady', 'nfl', 'tom'], dtype='object')"
      ]
     },
     "execution_count": 123,
     "metadata": {},
     "output_type": "execute_result"
    }
   ],
   "source": [
    "#Code adapted from https://stackoverflow.com/questions/60823145/intersect-bigram-trigram-in-python\n",
    "\n",
    "#Select top 10 unigrams from patriots\n",
    "patriots_top_uni = get_unigrams(patriots).sum().sort_values(ascending = False)[:10]\n",
    "patriots_top_uni = patriots_top_uni.index\n",
    "\n",
    "#Select top 10 unigrams from nfl\n",
    "nfl_top_uni = get_unigrams(nfl).sum().sort_values(ascending = False)[:10]\n",
    "nfl_top_uni = nfl_top_uni.index\n",
    "\n",
    "#Apply intersection method to both datasets unigrams\n",
    "\n",
    "unigrams_intersect = patriots_top_uni.intersection(nfl_top_uni)\n",
    "unigrams_intersect"
   ]
  },
  {
   "cell_type": "markdown",
   "id": "b8ba2bc8-be8c-4ae3-b655-7af7793f041f",
   "metadata": {},
   "source": [
    "From unigrams these words appear at both subreddits. I will put to my custom stop words list."
   ]
  },
  {
   "cell_type": "markdown",
   "id": "df7cda2f-ced7-41a9-9602-fe553a2b3375",
   "metadata": {},
   "source": [
    "#### Common Bigrams"
   ]
  },
  {
   "cell_type": "code",
   "execution_count": 127,
   "id": "72f97d6a-d2a2-4479-bfc6-f64e8cdf737f",
   "metadata": {},
   "outputs": [
    {
     "data": {
      "text/plain": [
       "Index(['tom brady', 'super bowl'], dtype='object')"
      ]
     },
     "execution_count": 127,
     "metadata": {},
     "output_type": "execute_result"
    }
   ],
   "source": [
    "#Select top 10 bigrams from patriots\n",
    "patriots_top_bi = get_bigrams(patriots).sum().sort_values(ascending = False)[:10]\n",
    "patriots_top_bi = patriots_top_bi.index\n",
    "\n",
    "#Select top 10 bigrams from nfl\n",
    "nfl_top_bi = get_bigrams(nfl).sum().sort_values(ascending = False)[:10]\n",
    "nfl_top_bi = nfl_top_bi.index\n",
    "\n",
    "#Apply intersection method to both datasets bigrams\n",
    "\n",
    "bigrams_intersect = patriots_top_bi.intersection(nfl_top_bi)\n",
    "bigrams_intersect"
   ]
  },
  {
   "cell_type": "markdown",
   "id": "3e9ea57c-cd8d-4284-9bc4-6b97ca550f63",
   "metadata": {},
   "source": [
    "From bigrams these words appear at both subreddits. I will put to my custom stop words list."
   ]
  },
  {
   "cell_type": "markdown",
   "id": "cbfe1dc1-6e25-4b24-97b2-5347a4b9c01b",
   "metadata": {},
   "source": [
    "### Feature Engineering"
   ]
  },
  {
   "cell_type": "markdown",
   "id": "7b2eba5c-fc22-4587-a835-cefd0ebbd651",
   "metadata": {},
   "source": [
    "#### Create Custom Stop Words"
   ]
  },
  {
   "cell_type": "code",
   "execution_count": 44,
   "id": "6fe3d7c4-5bd9-493e-98e1-cd7f0a84f10b",
   "metadata": {},
   "outputs": [],
   "source": [
    "#Create the custom stop words from unigrams and bigrams\n",
    "my_stop_words = list(_stop_words.ENGLISH_STOP_WORDS)\n",
    "#Append the unigrams_intersect\n",
    "for word in unigrams_intersect:\n",
    "    my_stop_words.append(word)\n",
    "    \n",
    "#Append the bigrams_instersect\n",
    "for word in bigrams_intersect:\n",
    "    my_stop_words.append(word)"
   ]
  },
  {
   "cell_type": "markdown",
   "id": "5101ee4a-29f3-4b5e-a68b-33b20070a17a",
   "metadata": {},
   "source": [
    "#### Combine Subreddits"
   ]
  },
  {
   "cell_type": "code",
   "execution_count": 45,
   "id": "c85d0a2f-6dfb-4966-813a-aa78c825e9b4",
   "metadata": {},
   "outputs": [
    {
     "data": {
      "text/html": [
       "<div>\n",
       "<style scoped>\n",
       "    .dataframe tbody tr th:only-of-type {\n",
       "        vertical-align: middle;\n",
       "    }\n",
       "\n",
       "    .dataframe tbody tr th {\n",
       "        vertical-align: top;\n",
       "    }\n",
       "\n",
       "    .dataframe thead th {\n",
       "        text-align: right;\n",
       "    }\n",
       "</style>\n",
       "<table border=\"1\" class=\"dataframe\">\n",
       "  <thead>\n",
       "    <tr style=\"text-align: right;\">\n",
       "      <th></th>\n",
       "      <th>subreddit</th>\n",
       "      <th>title</th>\n",
       "      <th>author</th>\n",
       "      <th>num_comments</th>\n",
       "      <th>score</th>\n",
       "      <th>num_subscribers</th>\n",
       "      <th>domain</th>\n",
       "      <th>timecreated</th>\n",
       "    </tr>\n",
       "  </thead>\n",
       "  <tbody>\n",
       "    <tr>\n",
       "      <th>0</th>\n",
       "      <td>Patriots</td>\n",
       "      <td>if you could have a patriots roster from any year which year would it be</td>\n",
       "      <td>femalefirefighter56</td>\n",
       "      <td>0</td>\n",
       "      <td>1</td>\n",
       "      <td>636599</td>\n",
       "      <td>self.Patriots</td>\n",
       "      <td>2022-03-28 19:45:35</td>\n",
       "    </tr>\n",
       "    <tr>\n",
       "      <th>1</th>\n",
       "      <td>Patriots</td>\n",
       "      <td>that rare moment when   and current events collide</td>\n",
       "      <td>5_Frog_Margin</td>\n",
       "      <td>0</td>\n",
       "      <td>1</td>\n",
       "      <td>636596</td>\n",
       "      <td>i.redd.it</td>\n",
       "      <td>2022-03-28 19:18:32</td>\n",
       "    </tr>\n",
       "    <tr>\n",
       "      <th>2</th>\n",
       "      <td>Patriots</td>\n",
       "      <td>new nickname opportunity</td>\n",
       "      <td>Striking_Slice953</td>\n",
       "      <td>0</td>\n",
       "      <td>1</td>\n",
       "      <td>636592</td>\n",
       "      <td>self.Patriots</td>\n",
       "      <td>2022-03-28 19:03:26</td>\n",
       "    </tr>\n",
       "    <tr>\n",
       "      <th>38138</th>\n",
       "      <td>nfl</td>\n",
       "      <td>rob gronkowski says he d choose to retire if forced into decision right now</td>\n",
       "      <td>social_distant_joe</td>\n",
       "      <td>0</td>\n",
       "      <td>1</td>\n",
       "      <td>2365814</td>\n",
       "      <td>nfl.com</td>\n",
       "      <td>2022-01-26 11:41:45</td>\n",
       "    </tr>\n",
       "    <tr>\n",
       "      <th>38139</th>\n",
       "      <td>nfl</td>\n",
       "      <td>nwaneri cap i got my sources byron got the green light</td>\n",
       "      <td>hoyadestroyer</td>\n",
       "      <td>0</td>\n",
       "      <td>1</td>\n",
       "      <td>2365814</td>\n",
       "      <td>mobile.twitter.com</td>\n",
       "      <td>2022-01-26 11:41:02</td>\n",
       "    </tr>\n",
       "    <tr>\n",
       "      <th>38140</th>\n",
       "      <td>nfl</td>\n",
       "      <td>rosenthal the chiefs defense last  games against non big ben teams    points and    yards allowed</td>\n",
       "      <td>WorldTwisting</td>\n",
       "      <td>0</td>\n",
       "      <td>1</td>\n",
       "      <td>2365797</td>\n",
       "      <td>twitter.com</td>\n",
       "      <td>2022-01-26 11:32:16</td>\n",
       "    </tr>\n",
       "  </tbody>\n",
       "</table>\n",
       "</div>"
      ],
      "text/plain": [
       "      subreddit  \\\n",
       "0      Patriots   \n",
       "1      Patriots   \n",
       "2      Patriots   \n",
       "38138       nfl   \n",
       "38139       nfl   \n",
       "38140       nfl   \n",
       "\n",
       "                                                                                                     title  \\\n",
       "0                                if you could have a patriots roster from any year which year would it be    \n",
       "1                                                     that rare moment when   and current events collide     \n",
       "2                                                                                 new nickname opportunity   \n",
       "38138                         rob gronkowski says he d choose to retire if forced into decision right now    \n",
       "38139                                              nwaneri cap i got my sources byron got the green light    \n",
       "38140   rosenthal the chiefs defense last  games against non big ben teams    points and    yards allowed    \n",
       "\n",
       "                    author  num_comments  score  num_subscribers  \\\n",
       "0      femalefirefighter56             0      1           636599   \n",
       "1            5_Frog_Margin             0      1           636596   \n",
       "2        Striking_Slice953             0      1           636592   \n",
       "38138   social_distant_joe             0      1          2365814   \n",
       "38139        hoyadestroyer             0      1          2365814   \n",
       "38140        WorldTwisting             0      1          2365797   \n",
       "\n",
       "                   domain         timecreated  \n",
       "0           self.Patriots 2022-03-28 19:45:35  \n",
       "1               i.redd.it 2022-03-28 19:18:32  \n",
       "2           self.Patriots 2022-03-28 19:03:26  \n",
       "38138             nfl.com 2022-01-26 11:41:45  \n",
       "38139  mobile.twitter.com 2022-01-26 11:41:02  \n",
       "38140         twitter.com 2022-01-26 11:32:16  "
      ]
     },
     "execution_count": 45,
     "metadata": {},
     "output_type": "execute_result"
    }
   ],
   "source": [
    "#Concanate the dataset\n",
    "final_df = pd.concat([patriots, nfl]).reset_index(drop = True)\n",
    "\n",
    "#Check the first 3 rows and last 3 rows of new dataset\n",
    "final_df.head(3).append(final_df.tail(3))"
   ]
  },
  {
   "cell_type": "code",
   "execution_count": 46,
   "id": "ed621b8f-83f1-4329-9ace-ad199ad71543",
   "metadata": {},
   "outputs": [
    {
     "data": {
      "text/plain": [
       "0        1\n",
       "1        1\n",
       "2        1\n",
       "38138    0\n",
       "38139    0\n",
       "38140    0\n",
       "Name: subreddit, dtype: int64"
      ]
     },
     "execution_count": 46,
     "metadata": {},
     "output_type": "execute_result"
    }
   ],
   "source": [
    "#Convert Patriots subreddit to 1 and nfl to 0\n",
    "\n",
    "final_df['subreddit'] = final_df['subreddit'].apply(lambda x: 1 if x == 'Patriots' else 0)\n",
    "\n",
    "#Check the first 3 rows and last 3 rows of updated subreddit column\n",
    "final_df['subreddit'].head(3).append(final_df['subreddit'].tail(3))"
   ]
  },
  {
   "cell_type": "markdown",
   "id": "2fc38e5c-4dda-433c-a036-373b2c972edd",
   "metadata": {},
   "source": [
    "#### Select Features & Target"
   ]
  },
  {
   "cell_type": "code",
   "execution_count": 47,
   "id": "20bffed3-1054-4ef1-bae9-9ea5da20a79e",
   "metadata": {},
   "outputs": [],
   "source": [
    "#Select X and y to start building the model\n",
    "\n",
    "X = final_df['title']\n",
    "y = final_df['subreddit']"
   ]
  },
  {
   "cell_type": "code",
   "execution_count": 48,
   "id": "3d8dff5f-0a65-4a32-a31e-32183bf6cc86",
   "metadata": {},
   "outputs": [],
   "source": [
    "#Train test split the features and target variable\n",
    "\n",
    "X_train, X_test, y_train, y_test = train_test_split(X, y, random_state=42, stratify = y)"
   ]
  },
  {
   "cell_type": "markdown",
   "id": "b6424020-b1e2-4591-9cbf-fc18a13e13a2",
   "metadata": {},
   "source": [
    "### Modeling"
   ]
  },
  {
   "cell_type": "code",
   "execution_count": 49,
   "id": "6528fc45-6d86-4dad-82ac-124a6501c581",
   "metadata": {},
   "outputs": [
    {
     "data": {
      "text/plain": [
       "1    0.506568\n",
       "0    0.493432\n",
       "Name: subreddit, dtype: float64"
      ]
     },
     "execution_count": 49,
     "metadata": {},
     "output_type": "execute_result"
    }
   ],
   "source": [
    "#Check the baseline accuracy\n",
    "final_df['subreddit'].value_counts(normalize = True)"
   ]
  },
  {
   "cell_type": "markdown",
   "id": "053c5a94-f847-4e9b-81b5-1eed8c1808b7",
   "metadata": {},
   "source": [
    "My target variable is very balanced so what i will try to do is to get a better score than 50%"
   ]
  },
  {
   "cell_type": "markdown",
   "id": "de0390c6-711c-4c03-a989-ad63106c902f",
   "metadata": {},
   "source": [
    "#### 1. Logistic Regression"
   ]
  },
  {
   "cell_type": "markdown",
   "id": "35ee477a-6dd2-452d-8bee-db9a6007f145",
   "metadata": {},
   "source": [
    "##### 1.a Logistic Regression Model & CounterVecotrizer"
   ]
  },
  {
   "cell_type": "code",
   "execution_count": 62,
   "id": "d6676811-bef0-401f-bf41-83e7b9d19410",
   "metadata": {},
   "outputs": [
    {
     "name": "stdout",
     "output_type": "stream",
     "text": [
      "Best Score: 0.8571927984618075\n",
      "Train Score: 0.9507079181961196\n",
      "Test Score: 0.8616820469798657\n"
     ]
    },
    {
     "data": {
      "text/plain": [
       "{'cvec__binary': True,\n",
       " 'cvec__lowercase': True,\n",
       " 'cvec__max_df': 0.75,\n",
       " 'cvec__min_df': 2,\n",
       " 'cvec__ngram_range': (1, 3),\n",
       " 'cvec__stop_words': None,\n",
       " 'log__C': 0.35}"
      ]
     },
     "execution_count": 62,
     "metadata": {},
     "output_type": "execute_result"
    }
   ],
   "source": [
    "#Create a pipeline for logistic regression\n",
    "\n",
    "pipe = Pipeline([\n",
    "    ('cvec', CountVectorizer()),\n",
    "    ('log', LogisticRegression(solver = 'liblinear'))\n",
    "])\n",
    "\n",
    "params = {\n",
    "    'cvec__stop_words': [None, 'english', my_stop_words],\n",
    "    'cvec__max_df': [0.75, 0.85],\n",
    "    'cvec__min_df': [2, 3],\n",
    "    'cvec__ngram_range': [(1, 2), (1, 3)],\n",
    "    'cvec__binary': [True, False],\n",
    "    'cvec__lowercase': [True, False],\n",
    "    'log__C': [0.35, 0.75, 1]\n",
    "}\n",
    "\n",
    "gs = GridSearchCV(pipe, params, cv = 5, n_jobs= - 1)\n",
    "gs.fit(X_train, y_train)\n",
    "\n",
    "print(f'Best Score: {gs.best_score_}')\n",
    "print(f'Train Score: {gs.score(X_train, y_train)}')\n",
    "print(f'Test Score: {gs.score(X_test, y_test)}')\n",
    "gs.best_params_"
   ]
  },
  {
   "cell_type": "markdown",
   "id": "69addd5a-2aeb-485f-a753-1a5c1c4c3eb1",
   "metadata": {},
   "source": [
    "This models scores are telling me that this model is overfitting with a accuracy score in test set ~86.16%. Stop_words is choosed None as optimizing the model."
   ]
  },
  {
   "cell_type": "markdown",
   "id": "fdd2c630-7aae-4438-b9ed-b793d8aced9e",
   "metadata": {},
   "source": [
    "##### 1.b Logistic Regression & TfidVectorizer"
   ]
  },
  {
   "cell_type": "code",
   "execution_count": 71,
   "id": "46697adf-43db-4e77-823f-d4c475ed4147",
   "metadata": {},
   "outputs": [
    {
     "name": "stdout",
     "output_type": "stream",
     "text": [
      "Best Score: 0.8554448522985492\n",
      "The Train score: 0.9195944764901242\n",
      "The Test score: 0.8610528523489933\n"
     ]
    },
    {
     "data": {
      "text/plain": [
       "{'log__C': 1,\n",
       " 'tfid__binary': True,\n",
       " 'tfid__lowercase': True,\n",
       " 'tfid__max_df': 0.75,\n",
       " 'tfid__min_df': 2,\n",
       " 'tfid__ngram_range': (1, 2),\n",
       " 'tfid__stop_words': None}"
      ]
     },
     "execution_count": 71,
     "metadata": {},
     "output_type": "execute_result"
    }
   ],
   "source": [
    "#Create a pipeline\n",
    "pipe = Pipeline([\n",
    "    ('tfid', TfidfVectorizer()),\n",
    "    ('log', LogisticRegression(solver = 'liblinear'))\n",
    "])\n",
    "\n",
    "#Adding params to CounterVectorizer and Logistic Regression\n",
    "\n",
    "params = {\n",
    "    'tfid__stop_words': [None],\n",
    "    'tfid__max_df': [0.75, 0.85],\n",
    "    'tfid__min_df': [2, 3],\n",
    "    'tfid__ngram_range': [(1, 2)],\n",
    "    'tfid__binary': [True],\n",
    "    'tfid__lowercase': [True],\n",
    "    'log__C': [0.5, 1]\n",
    "}\n",
    "\n",
    "gs = GridSearchCV(pipe, params, n_jobs=-1, cv = 5)\n",
    "gs.fit(X_train, y_train)\n",
    "\n",
    "print(f'Best Score: {gs.best_score_}')\n",
    "print(f'The Train score: {gs.score(X_train, y_train)}')\n",
    "print(f'The Test score: {gs.score(X_test, y_test)}')\n",
    "gs.best_params_"
   ]
  },
  {
   "cell_type": "markdown",
   "id": "6fece4ad-d5b0-46a6-a077-026a61233699",
   "metadata": {},
   "source": [
    "This model is also overfitting, less overfitting than logistic regression & CountVectorizer but little bit lower accuracy score(86.10%)."
   ]
  },
  {
   "cell_type": "markdown",
   "id": "3efc9356-337c-4586-a54b-59661a8cf664",
   "metadata": {},
   "source": [
    "#### 2. Multinomial Naive Bayes"
   ]
  },
  {
   "cell_type": "markdown",
   "id": "0f103406-6d74-47b1-8679-b164bc66ece2",
   "metadata": {},
   "source": [
    "##### 2.a Multinomial NB & CounterVectorizer"
   ]
  },
  {
   "cell_type": "code",
   "execution_count": 79,
   "id": "d75c021b-547f-471b-a64e-3b8a1796853b",
   "metadata": {},
   "outputs": [
    {
     "name": "stdout",
     "output_type": "stream",
     "text": [
      "Best Score: 0.8469498339451146\n",
      "Train score 0.9080929907358853\n",
      "Test score 0.8539219798657718\n"
     ]
    },
    {
     "data": {
      "text/plain": [
       "{'cvec__binary': True,\n",
       " 'cvec__lowercase': True,\n",
       " 'cvec__max_df': 0.75,\n",
       " 'cvec__min_df': 2,\n",
       " 'cvec__ngram_range': (1, 2),\n",
       " 'cvec__stop_words': None,\n",
       " 'nb__alpha': 1}"
      ]
     },
     "execution_count": 79,
     "metadata": {},
     "output_type": "execute_result"
    }
   ],
   "source": [
    "pipe = Pipeline([\n",
    "    ('cvec', CountVectorizer()),    \n",
    "    ('nb', MultinomialNB())\n",
    "])\n",
    "\n",
    "# Tune GridSearchCV\n",
    "params = {\n",
    "    'cvec__stop_words':[None, 'english'],\n",
    "    'cvec__max_df':[0.75],\n",
    "    'cvec__min_df': [2],\n",
    "    'cvec__ngram_range': [(1, 2), (1, 3)],\n",
    "    'cvec__binary': [True],\n",
    "    'cvec__lowercase': [True],\n",
    "    'nb__alpha': [1]\n",
    "}\n",
    "\n",
    "\n",
    "gs = GridSearchCV(pipe, params, cv=5, n_jobs=-1)\n",
    "gs.fit(X_train, y_train)\n",
    "\n",
    "print(f'Best Score: {gs.best_score_}')\n",
    "print(\"Train score\", gs.score(X_train, y_train))\n",
    "print(\"Test score\", gs.score(X_test, y_test))\n",
    "\n",
    "gs.best_params_"
   ]
  },
  {
   "cell_type": "markdown",
   "id": "aae0689d-f368-48b7-9eb6-3a463dfde7fd",
   "metadata": {},
   "source": [
    "The Naive Bayes with CounterVectorizer is overfitting less than logistic regression but with lower accuracy score.(85.39%)"
   ]
  },
  {
   "cell_type": "markdown",
   "id": "57c86f38-306d-4a82-8a26-fc0b6a7c5a7f",
   "metadata": {},
   "source": [
    "##### 2.b Multinomial NB & TfidVectorizer"
   ]
  },
  {
   "cell_type": "code",
   "execution_count": 85,
   "id": "0a5143e0-68e2-4721-a306-ee2010f7fbb8",
   "metadata": {},
   "outputs": [
    {
     "name": "stdout",
     "output_type": "stream",
     "text": [
      "Best Score: 0.846425450096137\n",
      "Train score 0.9140360076909632\n",
      "Test score 0.854236577181208\n"
     ]
    },
    {
     "data": {
      "text/plain": [
       "{'nb__alpha': 1,\n",
       " 'tfid__binary': True,\n",
       " 'tfid__lowercase': True,\n",
       " 'tfid__max_df': 0.75,\n",
       " 'tfid__min_df': 2,\n",
       " 'tfid__ngram_range': (1, 2),\n",
       " 'tfid__stop_words': None}"
      ]
     },
     "execution_count": 85,
     "metadata": {},
     "output_type": "execute_result"
    }
   ],
   "source": [
    "pipe = Pipeline([('tfid', TfidfVectorizer()),    \n",
    "                 ('nb', MultinomialNB())])\n",
    "\n",
    "# Tune GridSearchCV\n",
    "params = {\n",
    "    'tfid__stop_words': [None],\n",
    "    'tfid__max_df': [.75],\n",
    "    'tfid__min_df': [2],\n",
    "    'tfid__ngram_range': [(1, 2), (1, 3)],\n",
    "    'tfid__binary': [True],\n",
    "    'tfid__lowercase': [True],\n",
    "    'nb__alpha': [1]\n",
    "}\n",
    "\n",
    "gs = GridSearchCV(pipe, params, cv=5)\n",
    "gs.fit(X_train, y_train)\n",
    "\n",
    "print(f'Best Score: {gs.best_score_}')\n",
    "print(\"Train score\", gs.score(X_train, y_train))\n",
    "print(\"Test score\", gs.score(X_test, y_test))\n",
    "\n",
    "gs.best_params_"
   ]
  },
  {
   "cell_type": "markdown",
   "id": "877cc200-c5ed-4e63-8c6e-2184246e87fa",
   "metadata": {},
   "source": [
    "The Naive Bayes & TfidVecotizer perform a little bit better than Naive Bayes & CounterVectorizer on accuracy score and just a little bit more overfitt "
   ]
  },
  {
   "cell_type": "markdown",
   "id": "6432a8fd-3573-433f-8204-caf5f7e22d38",
   "metadata": {},
   "source": [
    "### Model Evaluation"
   ]
  },
  {
   "cell_type": "markdown",
   "id": "f4e53cbf-bddb-4cda-b50b-08e736546ce5",
   "metadata": {},
   "source": [
    "All 4 models are overfitting a little but what i'm looking is to get the highest accuracy score. The best accuracy score has Logistic Regression & CounterVectorizer. Also the Logistic Regression & CounterVecotizer is the best model for interpreting the coefficients as well."
   ]
  },
  {
   "cell_type": "markdown",
   "id": "91e0126b-0970-4dda-9524-f406e23d3993",
   "metadata": {},
   "source": [
    "##### Logistic Regression & CounterVectorizer"
   ]
  },
  {
   "cell_type": "code",
   "execution_count": 140,
   "id": "40b365d4-7bef-47e1-aa88-9e4fc3a3e828",
   "metadata": {},
   "outputs": [
    {
     "name": "stdout",
     "output_type": "stream",
     "text": [
      "Accuracy score: 0.8616820469798657\n"
     ]
    }
   ],
   "source": [
    "#Instatiate the model with countervectorizer\n",
    "log = LogisticRegression(solver='liblinear', C = 0.35)\n",
    "cvec = CountVectorizer(ngram_range=(1, 3), binary=True, lowercase=True, min_df=2, max_df=0.75)\n",
    "\n",
    "#Fit Transform the data to be ready for modeling\n",
    "X_train_cvec = cvec.fit_transform(X_train)\n",
    "X_test_cvec = cvec.transform(X_test)\n",
    "\n",
    "#Fit the model\n",
    "log.fit(X_train_cvec, y_train)\n",
    "\n",
    "#Get predictions from the model\n",
    "preds = log.predict(X_test_cvec)\n",
    "\n",
    "print(f'Accuracy score: {accuracy_score(y_test, preds)}')"
   ]
  },
  {
   "cell_type": "markdown",
   "id": "d207b587-bfb3-442f-a4cd-209f86225d14",
   "metadata": {},
   "source": [
    "##### Plot Confusion Matrix"
   ]
  },
  {
   "cell_type": "code",
   "execution_count": 135,
   "id": "5ba3db62-31e6-4092-ba6e-54900d8b7560",
   "metadata": {},
   "outputs": [
    {
     "data": {
      "image/png": "[encoded data removed]",
      "text/plain": [
       "<Figure size 432x288 with 2 Axes>"
      ]
     },
     "metadata": {
      "needs_background": "light"
     },
     "output_type": "display_data"
    }
   ],
   "source": [
    "plot_confusion_matrix(log, X_test_cvec, y_test, cmap = 'Purples', display_labels=['NFL', 'Patriots'])\n",
    "plt.title('Confusion Matrix', fontsize = 14, weight = 'bold')\n",
    "plt.xlabel('Predicted Posts', fontsize = 12)\n",
    "plt.ylabel('Actual Posts', fontsize = 12);\n",
    "plt.savefig('conf_matrx.png')"
   ]
  },
  {
   "cell_type": "code",
   "execution_count": 88,
   "id": "c181da5d-3740-431e-a53f-d413f980c27b",
   "metadata": {},
   "outputs": [
    {
     "name": "stdout",
     "output_type": "stream",
     "text": [
      "Accuracy score: 86.17%\n",
      "Precision score: 84.87%\n",
      "Sensitivity score: 88.47%\n",
      "Specificity score: 83.8%\n",
      "Missclafication score: 13.83%\n"
     ]
    }
   ],
   "source": [
    "#Calculate scores\n",
    "\n",
    "tn, fp, fn, tp = confusion_matrix(y_test, preds).ravel()\n",
    "\n",
    "print(f'Accuracy score: {round(accuracy_score(y_test, preds)* 100, 2)}%')\n",
    "print(f'Precision score: {round(precision_score(y_test, preds)* 100, 2)}%')\n",
    "print(f'Sensitivity score: {round(recall_score(y_test, preds)* 100, 2)}%')\n",
    "print(f'Specificity score: {round((tn / (tn + fp)) * 100 ,2)}%')\n",
    "print(f'Missclafication score: {round((1 - accuracy_score(y_test, preds)) * 100, 2)}%')"
   ]
  },
  {
   "cell_type": "markdown",
   "id": "499f63a7-3336-4ee8-9b74-47c148d4f634",
   "metadata": {},
   "source": [
    "##### Coefficients Interpretability"
   ]
  },
  {
   "cell_type": "markdown",
   "id": "885b015d-c0fc-41ab-b45a-584f478b0c88",
   "metadata": {},
   "source": [
    "I have to create another counter vectorizer with  my custom stop words so the common words (also 'patriots', 'pats', or 'nfl') don't appear  to my coefficents"
   ]
  },
  {
   "cell_type": "code",
   "execution_count": 89,
   "id": "24e46cb9-ae28-4d22-9a67-d0f5850d39c3",
   "metadata": {},
   "outputs": [],
   "source": [
    "#Extend my custom stop words\n",
    "words = ['patriots', 'pats', 'nfl']\n",
    "for word in words:\n",
    "    if word not in my_stop_words:\n",
    "        my_stop_words.append(word)"
   ]
  },
  {
   "cell_type": "code",
   "execution_count": 90,
   "id": "13024396-ebe0-4630-ada2-16ec9ab4d382",
   "metadata": {},
   "outputs": [
    {
     "data": {
      "text/plain": [
       "LogisticRegression(C=0.75, solver='liblinear')"
      ]
     },
     "execution_count": 90,
     "metadata": {},
     "output_type": "execute_result"
    }
   ],
   "source": [
    "log = LogisticRegression(solver='liblinear', C = 0.75)\n",
    "cvec_2 = CountVectorizer(stop_words = my_stop_words)\n",
    "\n",
    "X_train_cvec2 = cvec_2.fit_transform(X_train)\n",
    "X_test_cvec_2 = cvec_2.transform(X_test)\n",
    "\n",
    "log.fit(X_train_cvec2, y_train)"
   ]
  },
  {
   "cell_type": "markdown",
   "id": "56bcf0c1-9cd6-458b-8c3c-e10f50e3baae",
   "metadata": {},
   "source": [
    "The logic of selecting coeff for patriots posts and nfl posts: When the coeff is positive it means that particular word has more odds to be in patriots posts and when is negative it means it will have more odds the other class which is nfl."
   ]
  },
  {
   "cell_type": "code",
   "execution_count": 91,
   "id": "39f21a5c-fd6c-4f9e-b5fb-9feb279dd46e",
   "metadata": {},
   "outputs": [],
   "source": [
    "#Get the coefficients from Logistic Regression\n",
    "log_coeff = log.coef_.tolist()[0]\n",
    "\n",
    "#Convert to a dataframe\n",
    "coeff_df = pd.DataFrame(log_coeff, cvec_2.get_feature_names(), columns=['Coefficients'])\n",
    "\n",
    "#Sorting the values from the most positive one to the most negative one\n",
    "coeff_df = coeff_df.sort_values(by = 'Coefficients', ascending=False)"
   ]
  },
  {
   "cell_type": "code",
   "execution_count": 92,
   "id": "fd717e7a-b7ee-46a2-82ea-3d5011bb63e8",
   "metadata": {},
   "outputs": [],
   "source": [
    "#The most positive will be for Patriots posts\n",
    "patriots_coeff = coeff_df.head(15)\n",
    "\n",
    "#The most negative correlation of patriots will be most positive for nfl\n",
    "nfl_coeff = coeff_df.tail(15)"
   ]
  },
  {
   "cell_type": "code",
   "execution_count": 132,
   "id": "73e3da8b-112b-43e3-9eac-6878a12d2742",
   "metadata": {},
   "outputs": [
    {
     "data": {
      "image/png": "[encoded data removed]",
      "text/plain": [
       "<Figure size 576x504 with 1 Axes>"
      ]
     },
     "metadata": {
      "needs_background": "light"
     },
     "output_type": "display_data"
    }
   ],
   "source": [
    "#Conconat those 2 dataframes to be able to plot coefficients in to a barplot\n",
    "most_pos_neg_coeff_df = pd.concat([patriots_coeff, nfl_coeff])\n",
    "\n",
    "plt.figure(figsize=(8, 7))\n",
    "sns.barplot(x = most_pos_neg_coeff_df['Coefficients'], y = most_pos_neg_coeff_df.index, color = 'navy')\n",
    "plt.title('Top 15 Coefficients for each Subreddit', fontsize = 14, weight = 'bold')\n",
    "plt.xlabel('Coefficients', fontsize = 12)\n",
    "plt.ylabel('Correlated Words', fontsize = 12)\n",
    "plt.savefig('coeff.png')"
   ]
  },
  {
   "cell_type": "markdown",
   "id": "b4330e03-71e8-490a-86fe-077d74d4a1b0",
   "metadata": {},
   "source": [
    "For Patriots subreddit the most positively correlated word is \"mac\" followed by \"gillette\" and \"judon\" meanwhile for NFL subreddit the most positively correlated word is \"highlight\", \"commanders\" and \"combine\" "
   ]
  },
  {
   "cell_type": "code",
   "execution_count": 94,
   "id": "a66073f7-fcba-482b-8983-4cf4054698b8",
   "metadata": {},
   "outputs": [
    {
     "data": {
      "text/html": [
       "<div>\n",
       "<style scoped>\n",
       "    .dataframe tbody tr th:only-of-type {\n",
       "        vertical-align: middle;\n",
       "    }\n",
       "\n",
       "    .dataframe tbody tr th {\n",
       "        vertical-align: top;\n",
       "    }\n",
       "\n",
       "    .dataframe thead th {\n",
       "        text-align: right;\n",
       "    }\n",
       "</style>\n",
       "<table border=\"1\" class=\"dataframe\">\n",
       "  <thead>\n",
       "    <tr style=\"text-align: right;\">\n",
       "      <th></th>\n",
       "      <th>Coefficients</th>\n",
       "      <th>Coefficients_Exp</th>\n",
       "    </tr>\n",
       "  </thead>\n",
       "  <tbody>\n",
       "    <tr>\n",
       "      <th>mac</th>\n",
       "      <td>2.899216</td>\n",
       "      <td>18.159907</td>\n",
       "    </tr>\n",
       "    <tr>\n",
       "      <th>gillette</th>\n",
       "      <td>2.748715</td>\n",
       "      <td>15.622539</td>\n",
       "    </tr>\n",
       "    <tr>\n",
       "      <th>judon</th>\n",
       "      <td>2.660343</td>\n",
       "      <td>14.301194</td>\n",
       "    </tr>\n",
       "    <tr>\n",
       "      <th>jonnu</th>\n",
       "      <td>2.553196</td>\n",
       "      <td>12.848094</td>\n",
       "    </tr>\n",
       "    <tr>\n",
       "      <th>reiss</th>\n",
       "      <td>2.533327</td>\n",
       "      <td>12.595345</td>\n",
       "    </tr>\n",
       "    <tr>\n",
       "      <th>bb</th>\n",
       "      <td>2.482267</td>\n",
       "      <td>11.968365</td>\n",
       "    </tr>\n",
       "    <tr>\n",
       "      <th>belichick</th>\n",
       "      <td>2.472723</td>\n",
       "      <td>11.854686</td>\n",
       "    </tr>\n",
       "    <tr>\n",
       "      <th>bourne</th>\n",
       "      <td>2.326653</td>\n",
       "      <td>10.243594</td>\n",
       "    </tr>\n",
       "    <tr>\n",
       "      <th>flashback</th>\n",
       "      <td>2.155433</td>\n",
       "      <td>8.631628</td>\n",
       "    </tr>\n",
       "    <tr>\n",
       "      <th>barmore</th>\n",
       "      <td>2.124100</td>\n",
       "      <td>8.365368</td>\n",
       "    </tr>\n",
       "    <tr>\n",
       "      <th>england</th>\n",
       "      <td>2.102052</td>\n",
       "      <td>8.182945</td>\n",
       "    </tr>\n",
       "    <tr>\n",
       "      <th>ne</th>\n",
       "      <td>2.091418</td>\n",
       "      <td>8.096389</td>\n",
       "    </tr>\n",
       "    <tr>\n",
       "      <th>howe</th>\n",
       "      <td>2.043525</td>\n",
       "      <td>7.717767</td>\n",
       "    </tr>\n",
       "    <tr>\n",
       "      <th>patriot</th>\n",
       "      <td>2.037848</td>\n",
       "      <td>7.674074</td>\n",
       "    </tr>\n",
       "    <tr>\n",
       "      <th>edelman</th>\n",
       "      <td>1.974399</td>\n",
       "      <td>7.202287</td>\n",
       "    </tr>\n",
       "  </tbody>\n",
       "</table>\n",
       "</div>"
      ],
      "text/plain": [
       "           Coefficients  Coefficients_Exp\n",
       "mac            2.899216         18.159907\n",
       "gillette       2.748715         15.622539\n",
       "judon          2.660343         14.301194\n",
       "jonnu          2.553196         12.848094\n",
       "reiss          2.533327         12.595345\n",
       "bb             2.482267         11.968365\n",
       "belichick      2.472723         11.854686\n",
       "bourne         2.326653         10.243594\n",
       "flashback      2.155433          8.631628\n",
       "barmore        2.124100          8.365368\n",
       "england        2.102052          8.182945\n",
       "ne             2.091418          8.096389\n",
       "howe           2.043525          7.717767\n",
       "patriot        2.037848          7.674074\n",
       "edelman        1.974399          7.202287"
      ]
     },
     "execution_count": 94,
     "metadata": {},
     "output_type": "execute_result"
    }
   ],
   "source": [
    "#Interpret coefficients for Patriots subreddit. To be able to interpret the coefficients i have to exponential them. I will create a new column Coefficients Exp.\n",
    "patriots_coeff['Coefficients_Exp'] = np.exp(patriots_coeff['Coefficients'])\n",
    "\n",
    "#Check the new dataframe\n",
    "patriots_coeff"
   ]
  },
  {
   "cell_type": "markdown",
   "id": "180cb256-86ad-4eb3-a1a3-0b614062f217",
   "metadata": {},
   "source": [
    "If the presence of word \"mac\" increased by 1 in title, that title is 18.16 as likely to be classified as Patriots subreddit."
   ]
  },
  {
   "cell_type": "code",
   "execution_count": 95,
   "id": "9047c788-15d6-45d2-aa43-c2daf3097019",
   "metadata": {},
   "outputs": [
    {
     "data": {
      "text/html": [
       "<div>\n",
       "<style scoped>\n",
       "    .dataframe tbody tr th:only-of-type {\n",
       "        vertical-align: middle;\n",
       "    }\n",
       "\n",
       "    .dataframe tbody tr th {\n",
       "        vertical-align: top;\n",
       "    }\n",
       "\n",
       "    .dataframe thead th {\n",
       "        text-align: right;\n",
       "    }\n",
       "</style>\n",
       "<table border=\"1\" class=\"dataframe\">\n",
       "  <thead>\n",
       "    <tr style=\"text-align: right;\">\n",
       "      <th></th>\n",
       "      <th>Coefficients</th>\n",
       "      <th>Coefficients_Exp</th>\n",
       "    </tr>\n",
       "  </thead>\n",
       "  <tbody>\n",
       "    <tr>\n",
       "      <th>highlight</th>\n",
       "      <td>-3.137058</td>\n",
       "      <td>23.036004</td>\n",
       "    </tr>\n",
       "    <tr>\n",
       "      <th>commanders</th>\n",
       "      <td>-2.926874</td>\n",
       "      <td>18.669184</td>\n",
       "    </tr>\n",
       "    <tr>\n",
       "      <th>combine</th>\n",
       "      <td>-2.732294</td>\n",
       "      <td>15.368107</td>\n",
       "    </tr>\n",
       "    <tr>\n",
       "      <th>tyreek</th>\n",
       "      <td>-2.430514</td>\n",
       "      <td>11.364722</td>\n",
       "    </tr>\n",
       "    <tr>\n",
       "      <th>bengals</th>\n",
       "      <td>-2.347940</td>\n",
       "      <td>10.463988</td>\n",
       "    </tr>\n",
       "    <tr>\n",
       "      <th>burrow</th>\n",
       "      <td>-2.339433</td>\n",
       "      <td>10.375352</td>\n",
       "    </tr>\n",
       "    <tr>\n",
       "      <th>mcvay</th>\n",
       "      <td>-2.108851</td>\n",
       "      <td>8.238771</td>\n",
       "    </tr>\n",
       "    <tr>\n",
       "      <th>transactions</th>\n",
       "      <td>-2.078955</td>\n",
       "      <td>7.996108</td>\n",
       "    </tr>\n",
       "    <tr>\n",
       "      <th>baker</th>\n",
       "      <td>-2.045151</td>\n",
       "      <td>7.730327</td>\n",
       "    </tr>\n",
       "    <tr>\n",
       "      <th>rams</th>\n",
       "      <td>-2.019062</td>\n",
       "      <td>7.531258</td>\n",
       "    </tr>\n",
       "    <tr>\n",
       "      <th>halftime</th>\n",
       "      <td>-1.996109</td>\n",
       "      <td>7.360360</td>\n",
       "    </tr>\n",
       "    <tr>\n",
       "      <th>lamar</th>\n",
       "      <td>-1.989459</td>\n",
       "      <td>7.311579</td>\n",
       "    </tr>\n",
       "    <tr>\n",
       "      <th>deebo</th>\n",
       "      <td>-1.968326</td>\n",
       "      <td>7.158683</td>\n",
       "    </tr>\n",
       "    <tr>\n",
       "      <th>kupp</th>\n",
       "      <td>-1.957811</td>\n",
       "      <td>7.083804</td>\n",
       "    </tr>\n",
       "    <tr>\n",
       "      <th>superbowl</th>\n",
       "      <td>-1.912324</td>\n",
       "      <td>6.768799</td>\n",
       "    </tr>\n",
       "  </tbody>\n",
       "</table>\n",
       "</div>"
      ],
      "text/plain": [
       "              Coefficients  Coefficients_Exp\n",
       "highlight        -3.137058         23.036004\n",
       "commanders       -2.926874         18.669184\n",
       "combine          -2.732294         15.368107\n",
       "tyreek           -2.430514         11.364722\n",
       "bengals          -2.347940         10.463988\n",
       "burrow           -2.339433         10.375352\n",
       "mcvay            -2.108851          8.238771\n",
       "transactions     -2.078955          7.996108\n",
       "baker            -2.045151          7.730327\n",
       "rams             -2.019062          7.531258\n",
       "halftime         -1.996109          7.360360\n",
       "lamar            -1.989459          7.311579\n",
       "deebo            -1.968326          7.158683\n",
       "kupp             -1.957811          7.083804\n",
       "superbowl        -1.912324          6.768799"
      ]
     },
     "execution_count": 95,
     "metadata": {},
     "output_type": "execute_result"
    }
   ],
   "source": [
    "#Interpret coefficients for NFL subreddit. To be able to interpret the coefficients i have to exponential them but first i have to take absolute value to convert to positive values. I will create a new column Coefficients Exp.\n",
    "nfl_coeff['Coefficients_Exp'] = np.exp(abs(nfl_coeff['Coefficients']))\n",
    "\n",
    "#Check the new dataframe sorted by exp \n",
    "nfl_coeff.sort_values(by = 'Coefficients_Exp', ascending=False)"
   ]
  },
  {
   "cell_type": "markdown",
   "id": "6d22acc1-efa3-46f5-8ad9-a737aa76131b",
   "metadata": {},
   "source": [
    "Adding the presence of word 'highlight' by 1 in title, that title is 23 times as likely to be classified as NFL subreddits"
   ]
  },
  {
   "cell_type": "markdown",
   "id": "c20390d4-d2d3-4284-913b-57313791302b",
   "metadata": {},
   "source": [
    "### Conclusions"
   ]
  },
  {
   "cell_type": "markdown",
   "id": "00b4f16d-ba56-4556-ab53-654cf902056d",
   "metadata": {},
   "source": [
    "The best model to detect the patriots subreddit from NFL subreddit is Logistic Regression and using CounterVectorizer for vectorizing the data. The tuning hyperparameters are stop_words =  None, ngram_range = (1, 3) and C = 0.75"
   ]
  },
  {
   "cell_type": "markdown",
   "id": "5a61a06f-26c3-45b1-90b8-4bdbed62f37b",
   "metadata": {},
   "source": [
    "* Accuracy score: 86.17%\n",
    "* Precision score: 84.87%\n",
    "* Sensitivity score: 88.47%\n",
    "* Specificity score: 83.8%\n",
    "* Missclafication score: 13.83%"
   ]
  },
  {
   "cell_type": "markdown",
   "id": "8e9aa881-ea5f-4c88-8157-cad87c2999a2",
   "metadata": {},
   "source": [
    "Also for interpreting the coefficients the Logistic Regression and CounterVectorizer i used."
   ]
  },
  {
   "cell_type": "markdown",
   "id": "f74e270a-b808-4161-b846-1af3755999f1",
   "metadata": {},
   "source": [
    "* For Patriots subreddit the most positively correlated word is \"mac\" followed by \"gillette\" and \"judon\"\n",
    "    * If the presence of word \"mac\" increased by 1 in title, that title is 18.16 as likely to be classified as Patriots subreddit.\n",
    "    \n",
    "* For NFL subreddit the most positively correlated word is \"highlight\", \"commanders\" and \"combine\" \n",
    "    * Adding the presence of word 'highlight' by 1 in title, that title is 23 times as likely to be classified as NFL subreddits"
   ]
  },
  {
   "cell_type": "markdown",
   "id": "1f86a745-2533-4d0d-8e3e-6ef509f0e72d",
   "metadata": {},
   "source": [
    "#### Disadvantages"
   ]
  },
  {
   "cell_type": "markdown",
   "id": "35bb9ccb-7325-4566-8f04-2757d6a47397",
   "metadata": {},
   "source": [
    "For this project i built the classification model based just on title of the subreddits. I was interested for self text as well but most of the post were images and my model can't analyze images yet."
   ]
  },
  {
   "cell_type": "code",
   "execution_count": null,
   "id": "0f18479b-1c32-4456-ac93-6b90b195b778",
   "metadata": {},
   "outputs": [],
   "source": []
  },
  {
   "cell_type": "code",
   "execution_count": null,
   "id": "c1074a26-2ed2-451d-8110-c1f18287cee0",
   "metadata": {},
   "outputs": [],
   "source": []
  }
 ],
 "metadata": {
  "kernelspec": {
   "display_name": "Python 3",
   "language": "python",
   "name": "python3"
  },
  "language_info": {
   "codemirror_mode": {
    "name": "ipython",
    "version": 3
   },
   "file_extension": ".py",
   "mimetype": "text/x-python",
   "name": "python",
   "nbconvert_exporter": "python",
   "pygments_lexer": "ipython3",
   "version": "3.8.8"
  }
 },
 "nbformat": 4,
 "nbformat_minor": 5
}
