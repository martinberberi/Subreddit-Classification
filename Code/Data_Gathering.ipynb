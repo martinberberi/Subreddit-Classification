{
 "cells": [
  {
   "cell_type": "markdown",
   "id": "50192597-6fac-4a24-95ad-ddefa6a133c5",
   "metadata": {},
   "source": [
    "## Data Scrapping from Reddit"
   ]
  },
  {
   "cell_type": "code",
   "execution_count": 1,
   "id": "cd0a602e-bef5-4522-b579-5dd53cc688f1",
   "metadata": {},
   "outputs": [],
   "source": [
    "#Import libraries\n",
    "import pandas as pd\n",
    "from psaw import PushshiftAPI\n",
    "\n",
    "import warnings\n",
    "warnings.simplefilter(\"ignore\")"
   ]
  },
  {
   "cell_type": "code",
   "execution_count": 2,
   "id": "0b64bf02-e4d6-4cff-a314-7a76ca50e700",
   "metadata": {},
   "outputs": [],
   "source": [
    "#Create a fundtion to gather data\n",
    "def get_data(subreddit_wanted):\n",
    "    \n",
    "    #Code modified from https://medium.com/swlh/how-to-scrape-large-amounts-of-reddit-data-using-pushshift-1d33bde9286\n",
    "    #Institiate the PushshiftApi\n",
    "    api = PushshiftAPI()\n",
    "    \n",
    "    posts = []\n",
    "    subreddit = api.search_submissions(subreddit = subreddit_wanted, limit = 20000)\n",
    "    \n",
    "    for post in subreddit:\n",
    "        posts.append([post.subreddit, post.title, post.author, post.domain, post.created_utc])\n",
    "    df = pd.DataFrame(posts, columns=['subreddit', 'title', 'author', 'domain', 'timecreated'])\n",
    "    return df"
   ]
  },
  {
   "cell_type": "code",
   "execution_count": 3,
   "id": "4d16d1a4-e06e-4a7a-8728-7b24caf3319b",
   "metadata": {},
   "outputs": [],
   "source": [
    "#Gather Data for 'Patriots' & Save to csv file \n",
    "\n",
    "df_patriots = get_data('Patriots')\n",
    "df_patriots.to_csv('../data/patriots.csv', index = False)"
   ]
  },
  {
   "cell_type": "code",
   "execution_count": 4,
   "id": "1e6268aa-465d-4b8d-b699-ca2a11fb04a6",
   "metadata": {},
   "outputs": [
    {
     "name": "stdout",
     "output_type": "stream",
     "text": [
      "(19993, 5)\n"
     ]
    },
    {
     "data": {
      "text/html": [
       "<div>\n",
       "<style scoped>\n",
       "    .dataframe tbody tr th:only-of-type {\n",
       "        vertical-align: middle;\n",
       "    }\n",
       "\n",
       "    .dataframe tbody tr th {\n",
       "        vertical-align: top;\n",
       "    }\n",
       "\n",
       "    .dataframe thead th {\n",
       "        text-align: right;\n",
       "    }\n",
       "</style>\n",
       "<table border=\"1\" class=\"dataframe\">\n",
       "  <thead>\n",
       "    <tr style=\"text-align: right;\">\n",
       "      <th></th>\n",
       "      <th>subreddit</th>\n",
       "      <th>title</th>\n",
       "      <th>author</th>\n",
       "      <th>domain</th>\n",
       "      <th>timecreated</th>\n",
       "    </tr>\n",
       "  </thead>\n",
       "  <tbody>\n",
       "    <tr>\n",
       "      <th>0</th>\n",
       "      <td>Patriots</td>\n",
       "      <td>Yo what did Edelman post on his story??? (Igno...</td>\n",
       "      <td>Patsct1203</td>\n",
       "      <td>/r/Patriots/comments/ttu70z/yo_what_did_edelma...</td>\n",
       "      <td>1648828738</td>\n",
       "    </tr>\n",
       "    <tr>\n",
       "      <th>1</th>\n",
       "      <td>Patriots</td>\n",
       "      <td>[Highlights] Cris Collinsworth reacts to N'Kea...</td>\n",
       "      <td>Lagooooooon</td>\n",
       "      <td>/r/Patriots/comments/tttw3w/highlights_cris_co...</td>\n",
       "      <td>1648827990</td>\n",
       "    </tr>\n",
       "    <tr>\n",
       "      <th>2</th>\n",
       "      <td>Patriots</td>\n",
       "      <td>What if we did 28-3 here?</td>\n",
       "      <td>katybobaty</td>\n",
       "      <td>i.redd.it</td>\n",
       "      <td>1648827341</td>\n",
       "    </tr>\n",
       "    <tr>\n",
       "      <th>3</th>\n",
       "      <td>Patriots</td>\n",
       "      <td>Jules giving me an absolute heart attack</td>\n",
       "      <td>1337speak</td>\n",
       "      <td>twitter.com</td>\n",
       "      <td>1648825311</td>\n",
       "    </tr>\n",
       "    <tr>\n",
       "      <th>4</th>\n",
       "      <td>Patriots</td>\n",
       "      <td>Place?</td>\n",
       "      <td>Coppatop</td>\n",
       "      <td>self.Patriots</td>\n",
       "      <td>1648819178</td>\n",
       "    </tr>\n",
       "  </tbody>\n",
       "</table>\n",
       "</div>"
      ],
      "text/plain": [
       "  subreddit                                              title       author  \\\n",
       "0  Patriots  Yo what did Edelman post on his story??? (Igno...   Patsct1203   \n",
       "1  Patriots  [Highlights] Cris Collinsworth reacts to N'Kea...  Lagooooooon   \n",
       "2  Patriots                          What if we did 28-3 here?   katybobaty   \n",
       "3  Patriots           Jules giving me an absolute heart attack    1337speak   \n",
       "4  Patriots                                             Place?     Coppatop   \n",
       "\n",
       "                                              domain  timecreated  \n",
       "0  /r/Patriots/comments/ttu70z/yo_what_did_edelma...   1648828738  \n",
       "1  /r/Patriots/comments/tttw3w/highlights_cris_co...   1648827990  \n",
       "2                                          i.redd.it   1648827341  \n",
       "3                                        twitter.com   1648825311  \n",
       "4                                      self.Patriots   1648819178  "
      ]
     },
     "execution_count": 4,
     "metadata": {},
     "output_type": "execute_result"
    }
   ],
   "source": [
    "#Cheking the Patriots dataset shape and head \n",
    "\n",
    "print(df_patriots.shape)\n",
    "df_patriots.head()"
   ]
  },
  {
   "cell_type": "code",
   "execution_count": 5,
   "id": "bc737287-aecd-4fd2-87bf-4b4192e30e55",
   "metadata": {},
   "outputs": [
    {
     "name": "stdout",
     "output_type": "stream",
     "text": [
      "Wall time: 3min 48s\n"
     ]
    }
   ],
   "source": [
    "%%time\n",
    "\n",
    "df_nfl = get_data('nfl')\n",
    "df_nfl.to_csv('../data/nfl.csv', index = False)"
   ]
  },
  {
   "cell_type": "code",
   "execution_count": 6,
   "id": "fe5c6048-3894-43b1-9991-8cac170a0783",
   "metadata": {},
   "outputs": [
    {
     "name": "stdout",
     "output_type": "stream",
     "text": [
      "(19996, 5)\n"
     ]
    },
    {
     "data": {
      "text/html": [
       "<div>\n",
       "<style scoped>\n",
       "    .dataframe tbody tr th:only-of-type {\n",
       "        vertical-align: middle;\n",
       "    }\n",
       "\n",
       "    .dataframe tbody tr th {\n",
       "        vertical-align: top;\n",
       "    }\n",
       "\n",
       "    .dataframe thead th {\n",
       "        text-align: right;\n",
       "    }\n",
       "</style>\n",
       "<table border=\"1\" class=\"dataframe\">\n",
       "  <thead>\n",
       "    <tr style=\"text-align: right;\">\n",
       "      <th></th>\n",
       "      <th>subreddit</th>\n",
       "      <th>title</th>\n",
       "      <th>author</th>\n",
       "      <th>domain</th>\n",
       "      <th>timecreated</th>\n",
       "    </tr>\n",
       "  </thead>\n",
       "  <tbody>\n",
       "    <tr>\n",
       "      <th>0</th>\n",
       "      <td>nfl</td>\n",
       "      <td>The DK Diet</td>\n",
       "      <td>Mrcounterpoint420</td>\n",
       "      <td>self.nfl</td>\n",
       "      <td>1648829092</td>\n",
       "    </tr>\n",
       "    <tr>\n",
       "      <th>1</th>\n",
       "      <td>nfl</td>\n",
       "      <td>Random NFL Fact: In 1932, the Chicago Bears ha...</td>\n",
       "      <td>TheFencingCoach</td>\n",
       "      <td>pro-football-reference.com</td>\n",
       "      <td>1648829039</td>\n",
       "    </tr>\n",
       "    <tr>\n",
       "      <th>2</th>\n",
       "      <td>nfl</td>\n",
       "      <td>[DIGGS] Me wanting to participate in April foo...</td>\n",
       "      <td>sovinder</td>\n",
       "      <td>twitter.com</td>\n",
       "      <td>1648828988</td>\n",
       "    </tr>\n",
       "    <tr>\n",
       "      <th>3</th>\n",
       "      <td>nfl</td>\n",
       "      <td>Bricsys BricsCAD Catia 21.2 Crack Win/Mac Ulti...</td>\n",
       "      <td>kingkhan0200</td>\n",
       "      <td>imrankhansoftware.tk</td>\n",
       "      <td>1648828929</td>\n",
       "    </tr>\n",
       "    <tr>\n",
       "      <th>4</th>\n",
       "      <td>nfl</td>\n",
       "      <td>Is taking a hit from ray Lewis enough to knock...</td>\n",
       "      <td>Flat-Western-7921</td>\n",
       "      <td>self.nfl</td>\n",
       "      <td>1648828718</td>\n",
       "    </tr>\n",
       "  </tbody>\n",
       "</table>\n",
       "</div>"
      ],
      "text/plain": [
       "  subreddit                                              title  \\\n",
       "0       nfl                                        The DK Diet   \n",
       "1       nfl  Random NFL Fact: In 1932, the Chicago Bears ha...   \n",
       "2       nfl  [DIGGS] Me wanting to participate in April foo...   \n",
       "3       nfl  Bricsys BricsCAD Catia 21.2 Crack Win/Mac Ulti...   \n",
       "4       nfl  Is taking a hit from ray Lewis enough to knock...   \n",
       "\n",
       "              author                      domain  timecreated  \n",
       "0  Mrcounterpoint420                    self.nfl   1648829092  \n",
       "1    TheFencingCoach  pro-football-reference.com   1648829039  \n",
       "2           sovinder                 twitter.com   1648828988  \n",
       "3       kingkhan0200        imrankhansoftware.tk   1648828929  \n",
       "4  Flat-Western-7921                    self.nfl   1648828718  "
      ]
     },
     "execution_count": 6,
     "metadata": {},
     "output_type": "execute_result"
    }
   ],
   "source": [
    "#Cheking the NFL dataset shape and head \n",
    "\n",
    "print(df_nfl.shape)\n",
    "df_nfl.head()"
   ]
  },
  {
   "cell_type": "code",
   "execution_count": null,
   "id": "b218ead7-b498-4601-9b21-269ca62c5461",
   "metadata": {},
   "outputs": [],
   "source": []
  },
  {
   "cell_type": "code",
   "execution_count": null,
   "id": "9e02d13e-2637-42e3-beb4-b8268338cea7",
   "metadata": {},
   "outputs": [],
   "source": []
  },
  {
   "cell_type": "code",
   "execution_count": null,
   "id": "b5135432-da26-4118-a435-c93087eaf5cd",
   "metadata": {},
   "outputs": [],
   "source": []
  },
  {
   "cell_type": "code",
   "execution_count": null,
   "id": "b630938b-c154-4142-9e62-a824c9473bfe",
   "metadata": {},
   "outputs": [],
   "source": []
  },
  {
   "cell_type": "code",
   "execution_count": null,
   "id": "3cc8415a-289d-4701-b3d8-6a6faf4b922b",
   "metadata": {},
   "outputs": [],
   "source": []
  }
 ],
 "metadata": {
  "kernelspec": {
   "display_name": "Python 3",
   "language": "python",
   "name": "python3"
  },
  "language_info": {
   "codemirror_mode": {
    "name": "ipython",
    "version": 3
   },
   "file_extension": ".py",
   "mimetype": "text/x-python",
   "name": "python",
   "nbconvert_exporter": "python",
   "pygments_lexer": "ipython3",
   "version": "3.8.8"
  }
 },
 "nbformat": 4,
 "nbformat_minor": 5
}
